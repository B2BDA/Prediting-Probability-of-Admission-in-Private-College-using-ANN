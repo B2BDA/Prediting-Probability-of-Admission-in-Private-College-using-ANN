{
 "cells": [
  {
   "cell_type": "code",
   "execution_count": 1,
   "metadata": {},
   "outputs": [],
   "source": [
    "import pandas as pd\n",
    "import numpy as np\n",
    "from scipy.stats import norm\n",
    "import seaborn as sns\n",
    "import matplotlib.pyplot as plt\n",
    "plt.style.use('fivethirtyeight')\n",
    "%matplotlib inline\n",
    "import random\n",
    "random.seed(1429)"
   ]
  },
  {
   "cell_type": "code",
   "execution_count": 2,
   "metadata": {},
   "outputs": [],
   "source": [
    "df=pd.read_csv(\"College_Admissions_Predict.csv\")"
   ]
  },
  {
   "cell_type": "code",
   "execution_count": 3,
   "metadata": {},
   "outputs": [
    {
     "data": {
      "text/plain": [
       "Private        0\n",
       "Apps           0\n",
       "Accept         0\n",
       "Enroll         0\n",
       "Top10perc      0\n",
       "Top25perc      0\n",
       "F.Undergrad    0\n",
       "P.Undergrad    0\n",
       "Outstate       0\n",
       "Room.Board     0\n",
       "Books          0\n",
       "Personal       0\n",
       "PhD            0\n",
       "Terminal       0\n",
       "S.F.Ratio      0\n",
       "perc.alumni    0\n",
       "Expend         0\n",
       "Grad.Rate      0\n",
       "dtype: int64"
      ]
     },
     "execution_count": 3,
     "metadata": {},
     "output_type": "execute_result"
    }
   ],
   "source": [
    "df.isna().sum()"
   ]
  },
  {
   "cell_type": "code",
   "execution_count": 4,
   "metadata": {},
   "outputs": [
    {
     "data": {
      "text/html": [
       "<div>\n",
       "<style scoped>\n",
       "    .dataframe tbody tr th:only-of-type {\n",
       "        vertical-align: middle;\n",
       "    }\n",
       "\n",
       "    .dataframe tbody tr th {\n",
       "        vertical-align: top;\n",
       "    }\n",
       "\n",
       "    .dataframe thead th {\n",
       "        text-align: right;\n",
       "    }\n",
       "</style>\n",
       "<table border=\"1\" class=\"dataframe\">\n",
       "  <thead>\n",
       "    <tr style=\"text-align: right;\">\n",
       "      <th></th>\n",
       "      <th>Private</th>\n",
       "      <th>Apps</th>\n",
       "      <th>Accept</th>\n",
       "      <th>Enroll</th>\n",
       "      <th>Top10perc</th>\n",
       "      <th>Top25perc</th>\n",
       "      <th>F.Undergrad</th>\n",
       "      <th>P.Undergrad</th>\n",
       "      <th>Outstate</th>\n",
       "      <th>Room.Board</th>\n",
       "      <th>Books</th>\n",
       "      <th>Personal</th>\n",
       "      <th>PhD</th>\n",
       "      <th>Terminal</th>\n",
       "      <th>S.F.Ratio</th>\n",
       "      <th>perc.alumni</th>\n",
       "      <th>Expend</th>\n",
       "      <th>Grad.Rate</th>\n",
       "    </tr>\n",
       "  </thead>\n",
       "  <tbody>\n",
       "    <tr>\n",
       "      <th>0</th>\n",
       "      <td>Yes</td>\n",
       "      <td>1660</td>\n",
       "      <td>1232</td>\n",
       "      <td>721</td>\n",
       "      <td>23</td>\n",
       "      <td>52</td>\n",
       "      <td>2885</td>\n",
       "      <td>537</td>\n",
       "      <td>7440</td>\n",
       "      <td>3300</td>\n",
       "      <td>450</td>\n",
       "      <td>2200</td>\n",
       "      <td>70</td>\n",
       "      <td>78</td>\n",
       "      <td>18.1</td>\n",
       "      <td>12</td>\n",
       "      <td>7041</td>\n",
       "      <td>60</td>\n",
       "    </tr>\n",
       "    <tr>\n",
       "      <th>1</th>\n",
       "      <td>Yes</td>\n",
       "      <td>2186</td>\n",
       "      <td>1924</td>\n",
       "      <td>512</td>\n",
       "      <td>16</td>\n",
       "      <td>29</td>\n",
       "      <td>2683</td>\n",
       "      <td>1227</td>\n",
       "      <td>12280</td>\n",
       "      <td>6450</td>\n",
       "      <td>750</td>\n",
       "      <td>1500</td>\n",
       "      <td>29</td>\n",
       "      <td>30</td>\n",
       "      <td>12.2</td>\n",
       "      <td>16</td>\n",
       "      <td>10527</td>\n",
       "      <td>56</td>\n",
       "    </tr>\n",
       "    <tr>\n",
       "      <th>2</th>\n",
       "      <td>Yes</td>\n",
       "      <td>1428</td>\n",
       "      <td>1097</td>\n",
       "      <td>336</td>\n",
       "      <td>22</td>\n",
       "      <td>50</td>\n",
       "      <td>1036</td>\n",
       "      <td>99</td>\n",
       "      <td>11250</td>\n",
       "      <td>3750</td>\n",
       "      <td>400</td>\n",
       "      <td>1165</td>\n",
       "      <td>53</td>\n",
       "      <td>66</td>\n",
       "      <td>12.9</td>\n",
       "      <td>30</td>\n",
       "      <td>8735</td>\n",
       "      <td>54</td>\n",
       "    </tr>\n",
       "    <tr>\n",
       "      <th>3</th>\n",
       "      <td>Yes</td>\n",
       "      <td>417</td>\n",
       "      <td>349</td>\n",
       "      <td>137</td>\n",
       "      <td>60</td>\n",
       "      <td>89</td>\n",
       "      <td>510</td>\n",
       "      <td>63</td>\n",
       "      <td>12960</td>\n",
       "      <td>5450</td>\n",
       "      <td>450</td>\n",
       "      <td>875</td>\n",
       "      <td>92</td>\n",
       "      <td>97</td>\n",
       "      <td>7.7</td>\n",
       "      <td>37</td>\n",
       "      <td>19016</td>\n",
       "      <td>59</td>\n",
       "    </tr>\n",
       "    <tr>\n",
       "      <th>4</th>\n",
       "      <td>Yes</td>\n",
       "      <td>193</td>\n",
       "      <td>146</td>\n",
       "      <td>55</td>\n",
       "      <td>16</td>\n",
       "      <td>44</td>\n",
       "      <td>249</td>\n",
       "      <td>869</td>\n",
       "      <td>7560</td>\n",
       "      <td>4120</td>\n",
       "      <td>800</td>\n",
       "      <td>1500</td>\n",
       "      <td>76</td>\n",
       "      <td>72</td>\n",
       "      <td>11.9</td>\n",
       "      <td>2</td>\n",
       "      <td>10922</td>\n",
       "      <td>15</td>\n",
       "    </tr>\n",
       "  </tbody>\n",
       "</table>\n",
       "</div>"
      ],
      "text/plain": [
       "  Private  Apps  Accept  Enroll  Top10perc  Top25perc  F.Undergrad  \\\n",
       "0     Yes  1660    1232     721         23         52         2885   \n",
       "1     Yes  2186    1924     512         16         29         2683   \n",
       "2     Yes  1428    1097     336         22         50         1036   \n",
       "3     Yes   417     349     137         60         89          510   \n",
       "4     Yes   193     146      55         16         44          249   \n",
       "\n",
       "   P.Undergrad  Outstate  Room.Board  Books  Personal  PhD  Terminal  \\\n",
       "0          537      7440        3300    450      2200   70        78   \n",
       "1         1227     12280        6450    750      1500   29        30   \n",
       "2           99     11250        3750    400      1165   53        66   \n",
       "3           63     12960        5450    450       875   92        97   \n",
       "4          869      7560        4120    800      1500   76        72   \n",
       "\n",
       "   S.F.Ratio  perc.alumni  Expend  Grad.Rate  \n",
       "0       18.1           12    7041         60  \n",
       "1       12.2           16   10527         56  \n",
       "2       12.9           30    8735         54  \n",
       "3        7.7           37   19016         59  \n",
       "4       11.9            2   10922         15  "
      ]
     },
     "execution_count": 4,
     "metadata": {},
     "output_type": "execute_result"
    }
   ],
   "source": [
    "df.head()"
   ]
  },
  {
   "cell_type": "code",
   "execution_count": 5,
   "metadata": {},
   "outputs": [
    {
     "data": {
      "text/plain": [
       "Yes    565\n",
       "No     212\n",
       "Name: Private, dtype: int64"
      ]
     },
     "execution_count": 5,
     "metadata": {},
     "output_type": "execute_result"
    }
   ],
   "source": [
    "df.Private.value_counts()"
   ]
  },
  {
   "cell_type": "code",
   "execution_count": 6,
   "metadata": {},
   "outputs": [
    {
     "data": {
      "text/plain": [
       "<matplotlib.axes._subplots.AxesSubplot at 0x2cda4cfdf48>"
      ]
     },
     "execution_count": 6,
     "metadata": {},
     "output_type": "execute_result"
    },
    {
     "data": {
      "image/png": "[encoded data removed]",
      "text/plain": [
       "<Figure size 432x288 with 1 Axes>"
      ]
     },
     "metadata": {
      "needs_background": "light"
     },
     "output_type": "display_data"
    }
   ],
   "source": [
    "sns.countplot(df.Private)"
   ]
  },
  {
   "cell_type": "code",
   "execution_count": 7,
   "metadata": {},
   "outputs": [
    {
     "data": {
      "text/plain": [
       "<matplotlib.axes._subplots.AxesSubplot at 0x2cda5008a88>"
      ]
     },
     "execution_count": 7,
     "metadata": {},
     "output_type": "execute_result"
    },
    {
     "data": {
      "image/png": "[encoded data removed]",
      "text/plain": [
       "<Figure size 432x288 with 1 Axes>"
      ]
     },
     "metadata": {
      "needs_background": "light"
     },
     "output_type": "display_data"
    }
   ],
   "source": [
    "sns.distplot(df.Apps, fit=norm)"
   ]
  },
  {
   "cell_type": "code",
   "execution_count": 8,
   "metadata": {},
   "outputs": [
    {
     "data": {
      "text/plain": [
       "<matplotlib.axes._subplots.AxesSubplot at 0x2cda50e1808>"
      ]
     },
     "execution_count": 8,
     "metadata": {},
     "output_type": "execute_result"
    },
    {
     "data": {
      "image/png": "[encoded data removed]",
      "text/plain": [
       "<Figure size 432x288 with 1 Axes>"
      ]
     },
     "metadata": {
      "needs_background": "light"
     },
     "output_type": "display_data"
    }
   ],
   "source": [
    "sns.distplot(df.Accept, fit=norm)"
   ]
  },
  {
   "cell_type": "code",
   "execution_count": 9,
   "metadata": {},
   "outputs": [
    {
     "data": {
      "text/plain": [
       "<matplotlib.axes._subplots.AxesSubplot at 0x2cda525c208>"
      ]
     },
     "execution_count": 9,
     "metadata": {},
     "output_type": "execute_result"
    },
    {
     "data": {
      "image/png": "[encoded data removed]",
      "text/plain": [
       "<Figure size 432x288 with 1 Axes>"
      ]
     },
     "metadata": {
      "needs_background": "light"
     },
     "output_type": "display_data"
    }
   ],
   "source": [
    "sns.distplot(df.Enroll, fit=norm)"
   ]
  },
  {
   "cell_type": "code",
   "execution_count": 10,
   "metadata": {},
   "outputs": [
    {
     "data": {
      "text/plain": [
       "<matplotlib.axes._subplots.AxesSubplot at 0x2cda533dc88>"
      ]
     },
     "execution_count": 10,
     "metadata": {},
     "output_type": "execute_result"
    },
    {
     "data": {
      "image/png": "[encoded data removed]",
      "text/plain": [
       "<Figure size 432x288 with 1 Axes>"
      ]
     },
     "metadata": {
      "needs_background": "light"
     },
     "output_type": "display_data"
    }
   ],
   "source": [
    "sns.distplot(df.Top10perc, fit=norm)\n",
    "sns.distplot(df.Top25perc, fit=norm)"
   ]
  },
  {
   "cell_type": "code",
   "execution_count": 11,
   "metadata": {},
   "outputs": [
    {
     "data": {
      "text/plain": [
       "<matplotlib.axes._subplots.AxesSubplot at 0x2cda542dc48>"
      ]
     },
     "execution_count": 11,
     "metadata": {},
     "output_type": "execute_result"
    },
    {
     "data": {
      "image/png": "[encoded data removed]",
      "text/plain": [
       "<Figure size 432x288 with 1 Axes>"
      ]
     },
     "metadata": {
      "needs_background": "light"
     },
     "output_type": "display_data"
    }
   ],
   "source": [
    "sns.distplot(df['F.Undergrad'], fit=norm)\n",
    "sns.distplot(df['P.Undergrad'], fit=norm)"
   ]
  },
  {
   "cell_type": "code",
   "execution_count": 12,
   "metadata": {},
   "outputs": [
    {
     "data": {
      "text/plain": [
       "<matplotlib.axes._subplots.AxesSubplot at 0x2cda55b1d08>"
      ]
     },
     "execution_count": 12,
     "metadata": {},
     "output_type": "execute_result"
    },
    {
     "data": {
      "image/png": "[encoded data removed]",
      "text/plain": [
       "<Figure size 432x288 with 1 Axes>"
      ]
     },
     "metadata": {
      "needs_background": "light"
     },
     "output_type": "display_data"
    }
   ],
   "source": [
    "sns.distplot(df.Outstate, fit=norm)\n"
   ]
  },
  {
   "cell_type": "code",
   "execution_count": 13,
   "metadata": {},
   "outputs": [
    {
     "data": {
      "text/plain": [
       "<matplotlib.axes._subplots.AxesSubplot at 0x2cda561b4c8>"
      ]
     },
     "execution_count": 13,
     "metadata": {},
     "output_type": "execute_result"
    },
    {
     "data": {
      "image/png": "[encoded data removed]",
      "text/plain": [
       "<Figure size 432x288 with 1 Axes>"
      ]
     },
     "metadata": {
      "needs_background": "light"
     },
     "output_type": "display_data"
    }
   ],
   "source": [
    "sns.distplot(df[\"Room.Board\"], fit=norm)"
   ]
  },
  {
   "cell_type": "code",
   "execution_count": 14,
   "metadata": {},
   "outputs": [
    {
     "data": {
      "text/plain": [
       "<matplotlib.axes._subplots.AxesSubplot at 0x2cda56e4c48>"
      ]
     },
     "execution_count": 14,
     "metadata": {},
     "output_type": "execute_result"
    },
    {
     "data": {
      "image/png": "[encoded data removed]",
      "text/plain": [
       "<Figure size 432x288 with 1 Axes>"
      ]
     },
     "metadata": {
      "needs_background": "light"
     },
     "output_type": "display_data"
    }
   ],
   "source": [
    "sns.distplot(df.Books, fit=norm)"
   ]
  },
  {
   "cell_type": "code",
   "execution_count": 15,
   "metadata": {},
   "outputs": [
    {
     "data": {
      "text/plain": [
       "<matplotlib.axes._subplots.AxesSubplot at 0x2cda570d808>"
      ]
     },
     "execution_count": 15,
     "metadata": {},
     "output_type": "execute_result"
    },
    {
     "data": {
      "image/png": "[encoded data removed]",
      "text/plain": [
       "<Figure size 432x288 with 1 Axes>"
      ]
     },
     "metadata": {
      "needs_background": "light"
     },
     "output_type": "display_data"
    }
   ],
   "source": [
    "sns.distplot(df.Personal, fit=norm)"
   ]
  },
  {
   "cell_type": "code",
   "execution_count": 16,
   "metadata": {},
   "outputs": [
    {
     "data": {
      "text/plain": [
       "<matplotlib.axes._subplots.AxesSubplot at 0x2cda58a6888>"
      ]
     },
     "execution_count": 16,
     "metadata": {},
     "output_type": "execute_result"
    },
    {
     "data": {
      "image/png": "[encoded data removed]",
      "text/plain": [
       "<Figure size 432x288 with 1 Axes>"
      ]
     },
     "metadata": {
      "needs_background": "light"
     },
     "output_type": "display_data"
    }
   ],
   "source": [
    "sns.distplot(df.PhD, )\n",
    "sns.distplot(df.Terminal)"
   ]
  },
  {
   "cell_type": "code",
   "execution_count": 17,
   "metadata": {},
   "outputs": [
    {
     "data": {
      "text/plain": [
       "<matplotlib.axes._subplots.AxesSubplot at 0x2cda58a69c8>"
      ]
     },
     "execution_count": 17,
     "metadata": {},
     "output_type": "execute_result"
    },
    {
     "data": {
      "image/png": "[encoded data removed]",
      "text/plain": [
       "<Figure size 432x288 with 1 Axes>"
      ]
     },
     "metadata": {
      "needs_background": "light"
     },
     "output_type": "display_data"
    }
   ],
   "source": [
    "sns.distplot(df['S.F.Ratio'], fit=norm)"
   ]
  },
  {
   "cell_type": "code",
   "execution_count": 18,
   "metadata": {},
   "outputs": [
    {
     "data": {
      "text/plain": [
       "<matplotlib.axes._subplots.AxesSubplot at 0x2cda5a615c8>"
      ]
     },
     "execution_count": 18,
     "metadata": {},
     "output_type": "execute_result"
    },
    {
     "data": {
      "image/png": "[encoded data removed]",
      "text/plain": [
       "<Figure size 432x288 with 1 Axes>"
      ]
     },
     "metadata": {
      "needs_background": "light"
     },
     "output_type": "display_data"
    }
   ],
   "source": [
    "sns.distplot(df['perc.alumni'], fit=norm)"
   ]
  },
  {
   "cell_type": "code",
   "execution_count": 19,
   "metadata": {},
   "outputs": [
    {
     "data": {
      "text/plain": [
       "<matplotlib.axes._subplots.AxesSubplot at 0x2cda5a99e08>"
      ]
     },
     "execution_count": 19,
     "metadata": {},
     "output_type": "execute_result"
    },
    {
     "data": {
      "image/png": "[encoded data removed]",
      "text/plain": [
       "<Figure size 432x288 with 1 Axes>"
      ]
     },
     "metadata": {
      "needs_background": "light"
     },
     "output_type": "display_data"
    }
   ],
   "source": [
    "sns.distplot(df.Expend, fit=norm)"
   ]
  },
  {
   "cell_type": "code",
   "execution_count": 20,
   "metadata": {},
   "outputs": [
    {
     "data": {
      "text/plain": [
       "<matplotlib.axes._subplots.AxesSubplot at 0x2cda5c03088>"
      ]
     },
     "execution_count": 20,
     "metadata": {},
     "output_type": "execute_result"
    },
    {
     "data": {
      "image/png": "[encoded data removed]",
      "text/plain": [
       "<Figure size 432x288 with 1 Axes>"
      ]
     },
     "metadata": {
      "needs_background": "light"
     },
     "output_type": "display_data"
    }
   ],
   "source": [
    "sns.distplot(df['Grad.Rate'], fit=norm)"
   ]
  },
  {
   "cell_type": "code",
   "execution_count": 21,
   "metadata": {},
   "outputs": [
    {
     "name": "stderr",
     "output_type": "stream",
     "text": [
      "Using TensorFlow backend.\n"
     ]
    }
   ],
   "source": [
    "from sklearn.preprocessing import StandardScaler\n",
    "from sklearn.model_selection import train_test_split, GridSearchCV, cross_val_score\n",
    "import keras"
   ]
  },
  {
   "cell_type": "code",
   "execution_count": 22,
   "metadata": {},
   "outputs": [],
   "source": [
    "from keras.layers import Dense, Dropout\n",
    "from keras.models import Sequential"
   ]
  },
  {
   "cell_type": "code",
   "execution_count": 23,
   "metadata": {},
   "outputs": [],
   "source": [
    "classification=Sequential()"
   ]
  },
  {
   "cell_type": "code",
   "execution_count": 24,
   "metadata": {},
   "outputs": [
    {
     "data": {
      "text/plain": [
       "Index(['Private', 'Apps', 'Accept', 'Enroll', 'Top10perc', 'Top25perc',\n",
       "       'F.Undergrad', 'P.Undergrad', 'Outstate', 'Room.Board', 'Books',\n",
       "       'Personal', 'PhD', 'Terminal', 'S.F.Ratio', 'perc.alumni', 'Expend',\n",
       "       'Grad.Rate'],\n",
       "      dtype='object')"
      ]
     },
     "execution_count": 24,
     "metadata": {},
     "output_type": "execute_result"
    }
   ],
   "source": [
    "df.columns"
   ]
  },
  {
   "cell_type": "code",
   "execution_count": 25,
   "metadata": {},
   "outputs": [],
   "source": [
    "mapper={'Yes':1, 'No':0}"
   ]
  },
  {
   "cell_type": "code",
   "execution_count": 26,
   "metadata": {},
   "outputs": [],
   "source": [
    "df.Private=df.Private.map(mapper)"
   ]
  },
  {
   "cell_type": "code",
   "execution_count": 27,
   "metadata": {},
   "outputs": [],
   "source": [
    "X=df.loc[:,['Apps', 'Accept', 'Enroll', 'Top10perc', 'Top25perc',\n",
    "       'F.Undergrad', 'P.Undergrad', 'Outstate', 'Room.Board', 'Books',\n",
    "       'Personal', 'PhD', 'Terminal', 'S.F.Ratio', 'perc.alumni', 'Expend',\n",
    "       'Grad.Rate']]\n",
    "y=df.loc[:,'Private']"
   ]
  },
  {
   "cell_type": "code",
   "execution_count": 28,
   "metadata": {},
   "outputs": [],
   "source": [
    "X_train, X_test, y_train, y_test = train_test_split(X, y, test_size=0.2, random_state=42)"
   ]
  },
  {
   "cell_type": "code",
   "execution_count": 29,
   "metadata": {},
   "outputs": [],
   "source": [
    "from imblearn.over_sampling import SMOTE\n",
    "smt=SMOTE(ratio=1.0)"
   ]
  },
  {
   "cell_type": "code",
   "execution_count": 30,
   "metadata": {},
   "outputs": [],
   "source": [
    "X_train_smt, y_train_smt= smt.fit_sample(X_train, y_train)"
   ]
  },
  {
   "cell_type": "code",
   "execution_count": 31,
   "metadata": {},
   "outputs": [],
   "source": [
    "X_train_smt=pd.DataFrame(X_train_smt, columns=X.columns)"
   ]
  },
  {
   "cell_type": "code",
   "execution_count": 32,
   "metadata": {},
   "outputs": [],
   "source": [
    "y_train_smt=pd.DataFrame(y_train_smt, columns=['Private'])"
   ]
  },
  {
   "cell_type": "code",
   "execution_count": 33,
   "metadata": {},
   "outputs": [],
   "source": [
    "skl=StandardScaler()"
   ]
  },
  {
   "cell_type": "code",
   "execution_count": 34,
   "metadata": {},
   "outputs": [],
   "source": [
    "X_train_skl=skl.fit_transform(X_train_smt)"
   ]
  },
  {
   "cell_type": "code",
   "execution_count": 35,
   "metadata": {},
   "outputs": [],
   "source": [
    "X_test_skl=skl.transform(X_test)"
   ]
  },
  {
   "cell_type": "code",
   "execution_count": 36,
   "metadata": {},
   "outputs": [],
   "source": [
    "X_train_skl=pd.DataFrame(X_train_skl, columns=X.columns)\n",
    "X_test_skl=pd.DataFrame(X_test_skl, columns=X.columns)"
   ]
  },
  {
   "cell_type": "markdown",
   "metadata": {},
   "source": [
    "adding input and hidden layer"
   ]
  },
  {
   "cell_type": "code",
   "execution_count": 37,
   "metadata": {},
   "outputs": [],
   "source": [
    "classification.add(Dense(units=9,activation='relu', kernel_initializer='he_uniform', input_dim=17 ))"
   ]
  },
  {
   "cell_type": "markdown",
   "metadata": {},
   "source": [
    "2nd hidden layer"
   ]
  },
  {
   "cell_type": "code",
   "execution_count": 38,
   "metadata": {},
   "outputs": [],
   "source": [
    "classification.add(Dense(units=9,activation='relu', kernel_initializer='he_uniform' ))"
   ]
  },
  {
   "cell_type": "markdown",
   "metadata": {},
   "source": [
    "output layer"
   ]
  },
  {
   "cell_type": "code",
   "execution_count": 39,
   "metadata": {},
   "outputs": [],
   "source": [
    "classification.add(Dense(units=1,activation='sigmoid', kernel_initializer='glorot_uniform' ))"
   ]
  },
  {
   "cell_type": "markdown",
   "metadata": {},
   "source": [
    "compiling ANN / Schotastic Gradient Descent 'ADAMAX'"
   ]
  },
  {
   "cell_type": "code",
   "execution_count": 40,
   "metadata": {},
   "outputs": [],
   "source": [
    "classification.compile(optimizer='Adamax', loss='binary_crossentropy', metrics=['accuracy'] )"
   ]
  },
  {
   "cell_type": "markdown",
   "metadata": {},
   "source": [
    "Inputting train set"
   ]
  },
  {
   "cell_type": "code",
   "execution_count": 41,
   "metadata": {},
   "outputs": [
    {
     "name": "stdout",
     "output_type": "stream",
     "text": [
      "Epoch 1/100\n",
      "912/912 [==============================] - 0s 135us/step - loss: 0.6821 - accuracy: 0.5735\n",
      "Epoch 2/100\n",
      "912/912 [==============================] - 0s 49us/step - loss: 0.5311 - accuracy: 0.7127\n",
      "Epoch 3/100\n",
      "912/912 [==============================] - 0s 48us/step - loss: 0.4480 - accuracy: 0.8224\n",
      "Epoch 4/100\n",
      "912/912 [==============================] - 0s 47us/step - loss: 0.3912 - accuracy: 0.8673\n",
      "Epoch 5/100\n",
      "912/912 [==============================] - 0s 48us/step - loss: 0.3490 - accuracy: 0.8893\n",
      "Epoch 6/100\n",
      "912/912 [==============================] - 0s 42us/step - loss: 0.3162 - accuracy: 0.9002\n",
      "Epoch 7/100\n",
      "912/912 [==============================] - 0s 38us/step - loss: 0.2896 - accuracy: 0.9090\n",
      "Epoch 8/100\n",
      "912/912 [==============================] - 0s 40us/step - loss: 0.2685 - accuracy: 0.9123\n",
      "Epoch 9/100\n",
      "912/912 [==============================] - 0s 38us/step - loss: 0.2510 - accuracy: 0.9200\n",
      "Epoch 10/100\n",
      "912/912 [==============================] - 0s 39us/step - loss: 0.2361 - accuracy: 0.9232\n",
      "Epoch 11/100\n",
      "912/912 [==============================] - 0s 45us/step - loss: 0.2232 - accuracy: 0.9276\n",
      "Epoch 12/100\n",
      "912/912 [==============================] - 0s 37us/step - loss: 0.2134 - accuracy: 0.9276\n",
      "Epoch 13/100\n",
      "912/912 [==============================] - 0s 47us/step - loss: 0.2049 - accuracy: 0.9331\n",
      "Epoch 14/100\n",
      "912/912 [==============================] - 0s 39us/step - loss: 0.1981 - accuracy: 0.9342\n",
      "Epoch 15/100\n",
      "912/912 [==============================] - 0s 40us/step - loss: 0.1925 - accuracy: 0.9342\n",
      "Epoch 16/100\n",
      "912/912 [==============================] - 0s 44us/step - loss: 0.1874 - accuracy: 0.9353\n",
      "Epoch 17/100\n",
      "912/912 [==============================] - 0s 57us/step - loss: 0.1831 - accuracy: 0.9375\n",
      "Epoch 18/100\n",
      "912/912 [==============================] - 0s 49us/step - loss: 0.1793 - accuracy: 0.9397\n",
      "Epoch 19/100\n",
      "912/912 [==============================] - 0s 36us/step - loss: 0.1755 - accuracy: 0.9408\n",
      "Epoch 20/100\n",
      "912/912 [==============================] - 0s 50us/step - loss: 0.1722 - accuracy: 0.9419\n",
      "Epoch 21/100\n",
      "912/912 [==============================] - 0s 56us/step - loss: 0.1690 - accuracy: 0.9452\n",
      "Epoch 22/100\n",
      "912/912 [==============================] - 0s 48us/step - loss: 0.1665 - accuracy: 0.9441\n",
      "Epoch 23/100\n",
      "912/912 [==============================] - 0s 44us/step - loss: 0.1638 - accuracy: 0.9485\n",
      "Epoch 24/100\n",
      "912/912 [==============================] - 0s 40us/step - loss: 0.1611 - accuracy: 0.9463\n",
      "Epoch 25/100\n",
      "912/912 [==============================] - 0s 36us/step - loss: 0.1591 - accuracy: 0.9463\n",
      "Epoch 26/100\n",
      "912/912 [==============================] - 0s 37us/step - loss: 0.1571 - accuracy: 0.9474\n",
      "Epoch 27/100\n",
      "912/912 [==============================] - 0s 39us/step - loss: 0.1553 - accuracy: 0.9474\n",
      "Epoch 28/100\n",
      "912/912 [==============================] - 0s 39us/step - loss: 0.1535 - accuracy: 0.9474\n",
      "Epoch 29/100\n",
      "912/912 [==============================] - 0s 35us/step - loss: 0.1517 - accuracy: 0.9485\n",
      "Epoch 30/100\n",
      "912/912 [==============================] - 0s 39us/step - loss: 0.1501 - accuracy: 0.9507\n",
      "Epoch 31/100\n",
      "912/912 [==============================] - 0s 39us/step - loss: 0.1483 - accuracy: 0.9529\n",
      "Epoch 32/100\n",
      "912/912 [==============================] - 0s 37us/step - loss: 0.1467 - accuracy: 0.9539\n",
      "Epoch 33/100\n",
      "912/912 [==============================] - 0s 44us/step - loss: 0.1454 - accuracy: 0.9550\n",
      "Epoch 34/100\n",
      "912/912 [==============================] - 0s 39us/step - loss: 0.1443 - accuracy: 0.9583\n",
      "Epoch 35/100\n",
      "912/912 [==============================] - 0s 68us/step - loss: 0.1428 - accuracy: 0.9529\n",
      "Epoch 36/100\n",
      "912/912 [==============================] - 0s 54us/step - loss: 0.1419 - accuracy: 0.9572\n",
      "Epoch 37/100\n",
      "912/912 [==============================] - 0s 54us/step - loss: 0.1402 - accuracy: 0.9550\n",
      "Epoch 38/100\n",
      "912/912 [==============================] - 0s 48us/step - loss: 0.1388 - accuracy: 0.9583\n",
      "Epoch 39/100\n",
      "912/912 [==============================] - 0s 64us/step - loss: 0.1378 - accuracy: 0.9583\n",
      "Epoch 40/100\n",
      "912/912 [==============================] - 0s 56us/step - loss: 0.1360 - accuracy: 0.9583\n",
      "Epoch 41/100\n",
      "912/912 [==============================] - 0s 51us/step - loss: 0.1351 - accuracy: 0.9594\n",
      "Epoch 42/100\n",
      "912/912 [==============================] - 0s 55us/step - loss: 0.1339 - accuracy: 0.9605\n",
      "Epoch 43/100\n",
      "912/912 [==============================] - 0s 45us/step - loss: 0.1333 - accuracy: 0.9583\n",
      "Epoch 44/100\n",
      "912/912 [==============================] - 0s 56us/step - loss: 0.1316 - accuracy: 0.9594\n",
      "Epoch 45/100\n",
      "912/912 [==============================] - 0s 48us/step - loss: 0.1310 - accuracy: 0.9594\n",
      "Epoch 46/100\n",
      "912/912 [==============================] - 0s 39us/step - loss: 0.1298 - accuracy: 0.9605\n",
      "Epoch 47/100\n",
      "912/912 [==============================] - 0s 39us/step - loss: 0.1292 - accuracy: 0.9594\n",
      "Epoch 48/100\n",
      "912/912 [==============================] - 0s 40us/step - loss: 0.1278 - accuracy: 0.9605\n",
      "Epoch 49/100\n",
      "912/912 [==============================] - 0s 40us/step - loss: 0.1269 - accuracy: 0.9605\n",
      "Epoch 50/100\n",
      "912/912 [==============================] - 0s 42us/step - loss: 0.1265 - accuracy: 0.9616\n",
      "Epoch 51/100\n",
      "912/912 [==============================] - 0s 39us/step - loss: 0.1258 - accuracy: 0.9616\n",
      "Epoch 52/100\n",
      "912/912 [==============================] - 0s 38us/step - loss: 0.1247 - accuracy: 0.9627\n",
      "Epoch 53/100\n",
      "912/912 [==============================] - 0s 35us/step - loss: 0.1249 - accuracy: 0.9561\n",
      "Epoch 54/100\n",
      "912/912 [==============================] - 0s 40us/step - loss: 0.1233 - accuracy: 0.9616\n",
      "Epoch 55/100\n",
      "912/912 [==============================] - 0s 42us/step - loss: 0.1226 - accuracy: 0.9638\n",
      "Epoch 56/100\n",
      "912/912 [==============================] - 0s 33us/step - loss: 0.1217 - accuracy: 0.9627\n",
      "Epoch 57/100\n",
      "912/912 [==============================] - 0s 33us/step - loss: 0.1214 - accuracy: 0.9638\n",
      "Epoch 58/100\n",
      "912/912 [==============================] - 0s 30us/step - loss: 0.1206 - accuracy: 0.9649\n",
      "Epoch 59/100\n",
      "912/912 [==============================] - 0s 40us/step - loss: 0.1199 - accuracy: 0.9649\n",
      "Epoch 60/100\n",
      "912/912 [==============================] - 0s 40us/step - loss: 0.1193 - accuracy: 0.9638\n",
      "Epoch 61/100\n",
      "912/912 [==============================] - 0s 40us/step - loss: 0.1189 - accuracy: 0.9638\n",
      "Epoch 62/100\n",
      "912/912 [==============================] - 0s 44us/step - loss: 0.1184 - accuracy: 0.9638\n",
      "Epoch 63/100\n",
      "912/912 [==============================] - 0s 35us/step - loss: 0.1179 - accuracy: 0.9649\n",
      "Epoch 64/100\n",
      "912/912 [==============================] - 0s 35us/step - loss: 0.1169 - accuracy: 0.9660\n",
      "Epoch 65/100\n",
      "912/912 [==============================] - 0s 34us/step - loss: 0.1165 - accuracy: 0.9660\n",
      "Epoch 66/100\n",
      "912/912 [==============================] - 0s 34us/step - loss: 0.1159 - accuracy: 0.9660\n",
      "Epoch 67/100\n",
      "912/912 [==============================] - 0s 35us/step - loss: 0.1155 - accuracy: 0.9649\n",
      "Epoch 68/100\n",
      "912/912 [==============================] - 0s 35us/step - loss: 0.1150 - accuracy: 0.9660\n",
      "Epoch 69/100\n",
      "912/912 [==============================] - 0s 33us/step - loss: 0.1144 - accuracy: 0.9638\n",
      "Epoch 70/100\n",
      "912/912 [==============================] - 0s 35us/step - loss: 0.1142 - accuracy: 0.9649\n",
      "Epoch 71/100\n",
      "912/912 [==============================] - 0s 33us/step - loss: 0.1133 - accuracy: 0.9660\n",
      "Epoch 72/100\n",
      "912/912 [==============================] - 0s 35us/step - loss: 0.1131 - accuracy: 0.9638\n",
      "Epoch 73/100\n",
      "912/912 [==============================] - 0s 32us/step - loss: 0.1121 - accuracy: 0.9649\n",
      "Epoch 74/100\n",
      "912/912 [==============================] - 0s 35us/step - loss: 0.1118 - accuracy: 0.9649\n",
      "Epoch 75/100\n",
      "912/912 [==============================] - 0s 30us/step - loss: 0.1112 - accuracy: 0.9649\n",
      "Epoch 76/100\n",
      "912/912 [==============================] - 0s 32us/step - loss: 0.1108 - accuracy: 0.9649\n",
      "Epoch 77/100\n",
      "912/912 [==============================] - 0s 30us/step - loss: 0.1103 - accuracy: 0.9638\n",
      "Epoch 78/100\n",
      "912/912 [==============================] - 0s 33us/step - loss: 0.1100 - accuracy: 0.9649\n",
      "Epoch 79/100\n",
      "912/912 [==============================] - 0s 37us/step - loss: 0.1093 - accuracy: 0.9649\n",
      "Epoch 80/100\n"
     ]
    },
    {
     "name": "stdout",
     "output_type": "stream",
     "text": [
      "912/912 [==============================] - 0s 41us/step - loss: 0.1096 - accuracy: 0.9671\n",
      "Epoch 81/100\n",
      "912/912 [==============================] - 0s 48us/step - loss: 0.1087 - accuracy: 0.9638\n",
      "Epoch 82/100\n",
      "912/912 [==============================] - 0s 45us/step - loss: 0.1082 - accuracy: 0.9671\n",
      "Epoch 83/100\n",
      "912/912 [==============================] - 0s 43us/step - loss: 0.1076 - accuracy: 0.9660\n",
      "Epoch 84/100\n",
      "912/912 [==============================] - 0s 74us/step - loss: 0.1078 - accuracy: 0.9616\n",
      "Epoch 85/100\n",
      "912/912 [==============================] - 0s 44us/step - loss: 0.1068 - accuracy: 0.9671\n",
      "Epoch 86/100\n",
      "912/912 [==============================] - 0s 50us/step - loss: 0.1065 - accuracy: 0.9649\n",
      "Epoch 87/100\n",
      "912/912 [==============================] - 0s 43us/step - loss: 0.1061 - accuracy: 0.9671\n",
      "Epoch 88/100\n",
      "912/912 [==============================] - 0s 40us/step - loss: 0.1057 - accuracy: 0.9671\n",
      "Epoch 89/100\n",
      "912/912 [==============================] - 0s 42us/step - loss: 0.1054 - accuracy: 0.9660\n",
      "Epoch 90/100\n",
      "912/912 [==============================] - 0s 44us/step - loss: 0.1048 - accuracy: 0.9682\n",
      "Epoch 91/100\n",
      "912/912 [==============================] - 0s 43us/step - loss: 0.1044 - accuracy: 0.9671\n",
      "Epoch 92/100\n",
      "912/912 [==============================] - 0s 30us/step - loss: 0.1041 - accuracy: 0.9682\n",
      "Epoch 93/100\n",
      "912/912 [==============================] - 0s 32us/step - loss: 0.1037 - accuracy: 0.9693\n",
      "Epoch 94/100\n",
      "912/912 [==============================] - 0s 32us/step - loss: 0.1032 - accuracy: 0.9682\n",
      "Epoch 95/100\n",
      "912/912 [==============================] - 0s 31us/step - loss: 0.1029 - accuracy: 0.9693\n",
      "Epoch 96/100\n",
      "912/912 [==============================] - 0s 31us/step - loss: 0.1025 - accuracy: 0.9693\n",
      "Epoch 97/100\n",
      "912/912 [==============================] - 0s 31us/step - loss: 0.1022 - accuracy: 0.9693\n",
      "Epoch 98/100\n",
      "912/912 [==============================] - 0s 33us/step - loss: 0.1021 - accuracy: 0.9693\n",
      "Epoch 99/100\n",
      "912/912 [==============================] - 0s 31us/step - loss: 0.1017 - accuracy: 0.9693\n",
      "Epoch 100/100\n",
      "912/912 [==============================] - 0s 31us/step - loss: 0.1011 - accuracy: 0.9693\n"
     ]
    },
    {
     "data": {
      "text/plain": [
       "<keras.callbacks.callbacks.History at 0x2cdacfc4ec8>"
      ]
     },
     "execution_count": 41,
     "metadata": {},
     "output_type": "execute_result"
    }
   ],
   "source": [
    "classification.fit(X_train_skl, y_train_smt,epochs=100, batch_size=32 )"
   ]
  },
  {
   "cell_type": "code",
   "execution_count": 42,
   "metadata": {},
   "outputs": [],
   "source": [
    "pred=classification.predict(X_test_skl)"
   ]
  },
  {
   "cell_type": "code",
   "execution_count": 43,
   "metadata": {},
   "outputs": [],
   "source": [
    "predited_class=[]\n",
    "for i in pred:\n",
    "    if i >0.5:\n",
    "        predited_class.append(1)\n",
    "    else:\n",
    "        predited_class.append(0)"
   ]
  },
  {
   "cell_type": "code",
   "execution_count": 44,
   "metadata": {},
   "outputs": [],
   "source": [
    "predited_class=pd.Series(predited_class)"
   ]
  },
  {
   "cell_type": "code",
   "execution_count": 45,
   "metadata": {},
   "outputs": [],
   "source": [
    "from sklearn.metrics import classification_report"
   ]
  },
  {
   "cell_type": "code",
   "execution_count": 46,
   "metadata": {},
   "outputs": [
    {
     "name": "stdout",
     "output_type": "stream",
     "text": [
      "              precision    recall  f1-score   support\n",
      "\n",
      "           0       0.81      0.91      0.86        47\n",
      "           1       0.96      0.91      0.93       109\n",
      "\n",
      "    accuracy                           0.91       156\n",
      "   macro avg       0.89      0.91      0.90       156\n",
      "weighted avg       0.92      0.91      0.91       156\n",
      "\n"
     ]
    }
   ],
   "source": [
    "print(classification_report(y_test,predited_class ))"
   ]
  },
  {
   "cell_type": "code",
   "execution_count": 48,
   "metadata": {},
   "outputs": [],
   "source": [
    "from keras.wrappers.scikit_learn import KerasClassifier"
   ]
  },
  {
   "cell_type": "code",
   "execution_count": 62,
   "metadata": {},
   "outputs": [],
   "source": [
    "def classifier_ann():\n",
    "    classification=Sequential()\n",
    "    classification.add(Dense(units=9, input_dim=17,activation='relu', kernel_initializer='uniform'))\n",
    "    classification.add(Dense(units=9,activation='relu', kernel_initializer='uniform'))\n",
    "    classification.add(Dense(units=1,activation='sigmoid', kernel_initializer='uniform'))\n",
    "    classification.compile(optimizer='Adamax', loss='binary_crossentropy', metrics=['accuracy'])\n",
    "    return classification"
   ]
  },
  {
   "cell_type": "code",
   "execution_count": 63,
   "metadata": {},
   "outputs": [],
   "source": [
    "classifier=KerasClassifier(build_fn=classifier_ann,epochs=100, batch_size=32 )"
   ]
  },
  {
   "cell_type": "code",
   "execution_count": 64,
   "metadata": {},
   "outputs": [
    {
     "name": "stderr",
     "output_type": "stream",
     "text": [
      "[Parallel(n_jobs=4)]: Using backend LokyBackend with 4 concurrent workers.\n",
      "[Parallel(n_jobs=4)]: Done  10 out of  10 | elapsed:   20.6s finished\n"
     ]
    }
   ],
   "source": [
    "cv_ann=cross_val_score(estimator=classifier,X=X_train_skl, y=y_train_smt, n_jobs=4, cv=10, verbose=1, scoring='accuracy' )"
   ]
  },
  {
   "cell_type": "code",
   "execution_count": 67,
   "metadata": {},
   "outputs": [
    {
     "name": "stdout",
     "output_type": "stream",
     "text": [
      " Mean CV accuracy is 0.94 and standard dev of CV accuracy is 0.02\n"
     ]
    }
   ],
   "source": [
    "mean_cv_accuracy=np.mean(cv_ann)\n",
    "std_cv_accuracy=np.std(cv_ann)\n",
    "print(f' Mean CV accuracy is {mean_cv_accuracy :.2f} and standard dev of CV accuracy is {std_cv_accuracy :.2f}')"
   ]
  },
  {
   "cell_type": "code",
   "execution_count": 69,
   "metadata": {},
   "outputs": [],
   "source": [
    "def classifier_ann(optimizer):\n",
    "    classification=Sequential()\n",
    "    classification.add(Dense(units=9, input_dim=17,activation='relu', kernel_initializer='uniform'))\n",
    "    classification.add(Dropout(rate=0.6))\n",
    "    classification.add(Dense(units=9,activation='relu', kernel_initializer='uniform'))\n",
    "    classification.add(Dropout(rate=0.6))\n",
    "    classification.add(Dense(units=1,activation='sigmoid', kernel_initializer='uniform'))\n",
    "    classification.compile(optimizer=optimizer, loss='binary_crossentropy', metrics=['accuracy'])\n",
    "    return classification"
   ]
  },
  {
   "cell_type": "code",
   "execution_count": 70,
   "metadata": {},
   "outputs": [],
   "source": [
    "classifier=KerasClassifier(build_fn=classifier_ann)"
   ]
  },
  {
   "cell_type": "code",
   "execution_count": 71,
   "metadata": {},
   "outputs": [],
   "source": [
    "param={'optimizer': ['Adamax','rmsprop'], 'batch_size':[32,64], 'epochs':[100,500]}"
   ]
  },
  {
   "cell_type": "code",
   "execution_count": 72,
   "metadata": {},
   "outputs": [],
   "source": [
    "gd_cv_ann=GridSearchCV(estimator=classifier, param_grid=param,n_jobs=4, cv=10, scoring='accuracy', return_train_score=True)"
   ]
  },
  {
   "cell_type": "code",
   "execution_count": 74,
   "metadata": {},
   "outputs": [
    {
     "name": "stderr",
     "output_type": "stream",
     "text": [
      "C:\\Users\\bishw\\Anaconda3\\lib\\site-packages\\joblib\\externals\\loky\\process_executor.py:706: UserWarning: A worker stopped while some jobs were given to the executor. This can be caused by a too short worker timeout or by a memory leak.\n",
      "  \"timeout or by a memory leak.\", UserWarning\n"
     ]
    },
    {
     "name": "stdout",
     "output_type": "stream",
     "text": [
      "WARNING:tensorflow:Large dropout rate: 0.6 (>0.5). In TensorFlow 2.x, dropout() uses dropout rate instead of keep_prob. Please ensure that this is intended.\n",
      "WARNING:tensorflow:Large dropout rate: 0.6 (>0.5). In TensorFlow 2.x, dropout() uses dropout rate instead of keep_prob. Please ensure that this is intended.\n",
      "Epoch 1/500\n",
      "912/912 [==============================] - 0s 151us/step - loss: 0.6927 - accuracy: 0.5735\n",
      "Epoch 2/500\n",
      "912/912 [==============================] - 0s 23us/step - loss: 0.6893 - accuracy: 0.7478\n",
      "Epoch 3/500\n",
      "912/912 [==============================] - 0s 24us/step - loss: 0.6803 - accuracy: 0.7807\n",
      "Epoch 4/500\n",
      "912/912 [==============================] - 0s 24us/step - loss: 0.6649 - accuracy: 0.8048\n",
      "Epoch 5/500\n",
      "912/912 [==============================] - 0s 27us/step - loss: 0.6458 - accuracy: 0.8224\n",
      "Epoch 6/500\n",
      "912/912 [==============================] - 0s 23us/step - loss: 0.6187 - accuracy: 0.8213\n",
      "Epoch 7/500\n",
      "912/912 [==============================] - 0s 23us/step - loss: 0.5912 - accuracy: 0.8311\n",
      "Epoch 8/500\n",
      "912/912 [==============================] - 0s 21us/step - loss: 0.5640 - accuracy: 0.8531\n",
      "Epoch 9/500\n",
      "912/912 [==============================] - 0s 20us/step - loss: 0.5291 - accuracy: 0.8366\n",
      "Epoch 10/500\n",
      "912/912 [==============================] - ETA: 0s - loss: 0.5330 - accuracy: 0.81 - 0s 19us/step - loss: 0.5108 - accuracy: 0.8333\n",
      "Epoch 11/500\n",
      "912/912 [==============================] - 0s 19us/step - loss: 0.4862 - accuracy: 0.8454\n",
      "Epoch 12/500\n",
      "912/912 [==============================] - 0s 20us/step - loss: 0.4560 - accuracy: 0.8542\n",
      "Epoch 13/500\n",
      "912/912 [==============================] - 0s 19us/step - loss: 0.4483 - accuracy: 0.8498\n",
      "Epoch 14/500\n",
      "912/912 [==============================] - 0s 19us/step - loss: 0.4225 - accuracy: 0.8476\n",
      "Epoch 15/500\n",
      "912/912 [==============================] - ETA: 0s - loss: 0.5072 - accuracy: 0.82 - 0s 19us/step - loss: 0.4149 - accuracy: 0.8553\n",
      "Epoch 16/500\n",
      "912/912 [==============================] - ETA: 0s - loss: 0.4246 - accuracy: 0.81 - 0s 18us/step - loss: 0.3772 - accuracy: 0.8520\n",
      "Epoch 17/500\n",
      "912/912 [==============================] - 0s 20us/step - loss: 0.3791 - accuracy: 0.8575\n",
      "Epoch 18/500\n",
      "912/912 [==============================] - 0s 19us/step - loss: 0.3680 - accuracy: 0.8739\n",
      "Epoch 19/500\n",
      "912/912 [==============================] - 0s 18us/step - loss: 0.3811 - accuracy: 0.8443\n",
      "Epoch 20/500\n",
      "912/912 [==============================] - ETA: 0s - loss: 0.3097 - accuracy: 0.89 - 0s 19us/step - loss: 0.3558 - accuracy: 0.8673\n",
      "Epoch 21/500\n",
      "912/912 [==============================] - 0s 17us/step - loss: 0.3633 - accuracy: 0.8607\n",
      "Epoch 22/500\n",
      "912/912 [==============================] - 0s 19us/step - loss: 0.3502 - accuracy: 0.8673\n",
      "Epoch 23/500\n",
      "912/912 [==============================] - 0s 17us/step - loss: 0.3612 - accuracy: 0.8564\n",
      "Epoch 24/500\n",
      "912/912 [==============================] - 0s 19us/step - loss: 0.3429 - accuracy: 0.8684\n",
      "Epoch 25/500\n",
      "912/912 [==============================] - 0s 17us/step - loss: 0.3621 - accuracy: 0.8695\n",
      "Epoch 26/500\n",
      "912/912 [==============================] - 0s 19us/step - loss: 0.3438 - accuracy: 0.8662\n",
      "Epoch 27/500\n",
      "912/912 [==============================] - 0s 19us/step - loss: 0.3343 - accuracy: 0.8783\n",
      "Epoch 28/500\n",
      "912/912 [==============================] - 0s 19us/step - loss: 0.3623 - accuracy: 0.8662\n",
      "Epoch 29/500\n",
      "912/912 [==============================] - 0s 17us/step - loss: 0.3196 - accuracy: 0.8871\n",
      "Epoch 30/500\n",
      "912/912 [==============================] - 0s 16us/step - loss: 0.3546 - accuracy: 0.8596\n",
      "Epoch 31/500\n",
      "912/912 [==============================] - 0s 16us/step - loss: 0.3390 - accuracy: 0.8794\n",
      "Epoch 32/500\n",
      "912/912 [==============================] - 0s 18us/step - loss: 0.2959 - accuracy: 0.8805\n",
      "Epoch 33/500\n",
      "912/912 [==============================] - 0s 19us/step - loss: 0.3196 - accuracy: 0.8684\n",
      "Epoch 34/500\n",
      "912/912 [==============================] - 0s 16us/step - loss: 0.3445 - accuracy: 0.8750\n",
      "Epoch 35/500\n",
      "912/912 [==============================] - 0s 24us/step - loss: 0.3237 - accuracy: 0.8904\n",
      "Epoch 36/500\n",
      "912/912 [==============================] - 0s 19us/step - loss: 0.3397 - accuracy: 0.8783\n",
      "Epoch 37/500\n",
      "912/912 [==============================] - 0s 16us/step - loss: 0.3054 - accuracy: 0.8838\n",
      "Epoch 38/500\n",
      "912/912 [==============================] - 0s 16us/step - loss: 0.3373 - accuracy: 0.8673\n",
      "Epoch 39/500\n",
      "912/912 [==============================] - 0s 17us/step - loss: 0.3314 - accuracy: 0.8750\n",
      "Epoch 40/500\n",
      "912/912 [==============================] - 0s 20us/step - loss: 0.3296 - accuracy: 0.8695\n",
      "Epoch 41/500\n",
      "912/912 [==============================] - 0s 20us/step - loss: 0.2855 - accuracy: 0.8882\n",
      "Epoch 42/500\n",
      "912/912 [==============================] - 0s 17us/step - loss: 0.3245 - accuracy: 0.8882\n",
      "Epoch 43/500\n",
      "912/912 [==============================] - 0s 16us/step - loss: 0.3466 - accuracy: 0.8827\n",
      "Epoch 44/500\n",
      "912/912 [==============================] - 0s 16us/step - loss: 0.3283 - accuracy: 0.8553\n",
      "Epoch 45/500\n",
      "912/912 [==============================] - 0s 19us/step - loss: 0.3434 - accuracy: 0.8936\n",
      "Epoch 46/500\n",
      "912/912 [==============================] - 0s 17us/step - loss: 0.3054 - accuracy: 0.8783\n",
      "Epoch 47/500\n",
      "912/912 [==============================] - 0s 16us/step - loss: 0.3107 - accuracy: 0.8849\n",
      "Epoch 48/500\n",
      "912/912 [==============================] - 0s 16us/step - loss: 0.3668 - accuracy: 0.8728\n",
      "Epoch 49/500\n",
      "912/912 [==============================] - 0s 16us/step - loss: 0.3435 - accuracy: 0.8673\n",
      "Epoch 50/500\n",
      "912/912 [==============================] - ETA: 0s - loss: 0.3108 - accuracy: 0.89 - 0s 17us/step - loss: 0.3222 - accuracy: 0.8827\n",
      "Epoch 51/500\n",
      "912/912 [==============================] - 0s 17us/step - loss: 0.3064 - accuracy: 0.8816\n",
      "Epoch 52/500\n",
      "912/912 [==============================] - 0s 19us/step - loss: 0.3135 - accuracy: 0.8750\n",
      "Epoch 53/500\n",
      "912/912 [==============================] - 0s 17us/step - loss: 0.3226 - accuracy: 0.8739\n",
      "Epoch 54/500\n",
      "912/912 [==============================] - 0s 17us/step - loss: 0.3121 - accuracy: 0.8849\n",
      "Epoch 55/500\n",
      "912/912 [==============================] - 0s 17us/step - loss: 0.2935 - accuracy: 0.8936\n",
      "Epoch 56/500\n",
      "912/912 [==============================] - 0s 17us/step - loss: 0.2882 - accuracy: 0.8750\n",
      "Epoch 57/500\n",
      "912/912 [==============================] - 0s 17us/step - loss: 0.2957 - accuracy: 0.9068\n",
      "Epoch 58/500\n",
      "912/912 [==============================] - 0s 16us/step - loss: 0.3026 - accuracy: 0.8827\n",
      "Epoch 59/500\n",
      "912/912 [==============================] - 0s 16us/step - loss: 0.3021 - accuracy: 0.8783\n",
      "Epoch 60/500\n",
      "912/912 [==============================] - 0s 17us/step - loss: 0.3091 - accuracy: 0.8882\n",
      "Epoch 61/500\n",
      "912/912 [==============================] - 0s 20us/step - loss: 0.3092 - accuracy: 0.8860\n",
      "Epoch 62/500\n",
      "912/912 [==============================] - 0s 19us/step - loss: 0.2969 - accuracy: 0.8860\n",
      "Epoch 63/500\n",
      "912/912 [==============================] - 0s 16us/step - loss: 0.3058 - accuracy: 0.8739\n",
      "Epoch 64/500\n",
      "912/912 [==============================] - 0s 16us/step - loss: 0.3364 - accuracy: 0.8717\n",
      "Epoch 65/500\n",
      "912/912 [==============================] - 0s 17us/step - loss: 0.3016 - accuracy: 0.8969\n",
      "Epoch 66/500\n",
      "912/912 [==============================] - 0s 16us/step - loss: 0.3158 - accuracy: 0.8893\n",
      "Epoch 67/500\n",
      "912/912 [==============================] - 0s 17us/step - loss: 0.3107 - accuracy: 0.8761\n",
      "Epoch 68/500\n",
      "912/912 [==============================] - 0s 17us/step - loss: 0.3258 - accuracy: 0.8761\n",
      "Epoch 69/500\n",
      "912/912 [==============================] - 0s 16us/step - loss: 0.3049 - accuracy: 0.8925\n",
      "Epoch 70/500\n",
      "912/912 [==============================] - 0s 19us/step - loss: 0.3074 - accuracy: 0.8936\n",
      "Epoch 71/500\n",
      "912/912 [==============================] - 0s 17us/step - loss: 0.3269 - accuracy: 0.8860\n",
      "Epoch 72/500\n",
      "912/912 [==============================] - 0s 19us/step - loss: 0.3394 - accuracy: 0.8893\n",
      "Epoch 73/500\n",
      "912/912 [==============================] - 0s 16us/step - loss: 0.3125 - accuracy: 0.8827\n",
      "Epoch 74/500\n",
      "912/912 [==============================] - 0s 17us/step - loss: 0.3155 - accuracy: 0.8838\n",
      "Epoch 75/500\n"
     ]
    },
    {
     "name": "stdout",
     "output_type": "stream",
     "text": [
      "912/912 [==============================] - 0s 20us/step - loss: 0.3069 - accuracy: 0.8860\n",
      "Epoch 76/500\n",
      "912/912 [==============================] - 0s 17us/step - loss: 0.3006 - accuracy: 0.8827\n",
      "Epoch 77/500\n",
      "912/912 [==============================] - 0s 16us/step - loss: 0.3135 - accuracy: 0.8980\n",
      "Epoch 78/500\n",
      "912/912 [==============================] - 0s 20us/step - loss: 0.3150 - accuracy: 0.8849\n",
      "Epoch 79/500\n",
      "912/912 [==============================] - 0s 16us/step - loss: 0.3009 - accuracy: 0.8805\n",
      "Epoch 80/500\n",
      "912/912 [==============================] - 0s 17us/step - loss: 0.2938 - accuracy: 0.8827\n",
      "Epoch 81/500\n",
      "912/912 [==============================] - 0s 16us/step - loss: 0.3138 - accuracy: 0.8936\n",
      "Epoch 82/500\n",
      "912/912 [==============================] - 0s 16us/step - loss: 0.3420 - accuracy: 0.8991\n",
      "Epoch 83/500\n",
      "912/912 [==============================] - 0s 17us/step - loss: 0.2908 - accuracy: 0.8893\n",
      "Epoch 84/500\n",
      "912/912 [==============================] - 0s 19us/step - loss: 0.2834 - accuracy: 0.8925\n",
      "Epoch 85/500\n",
      "912/912 [==============================] - 0s 19us/step - loss: 0.2987 - accuracy: 0.8991\n",
      "Epoch 86/500\n",
      "912/912 [==============================] - 0s 16us/step - loss: 0.3050 - accuracy: 0.9002\n",
      "Epoch 87/500\n",
      "912/912 [==============================] - 0s 22us/step - loss: 0.2864 - accuracy: 0.8947\n",
      "Epoch 88/500\n",
      "912/912 [==============================] - 0s 19us/step - loss: 0.3245 - accuracy: 0.8783\n",
      "Epoch 89/500\n",
      "912/912 [==============================] - 0s 19us/step - loss: 0.3007 - accuracy: 0.8980\n",
      "Epoch 90/500\n",
      "912/912 [==============================] - 0s 16us/step - loss: 0.3087 - accuracy: 0.8871\n",
      "Epoch 91/500\n",
      "912/912 [==============================] - 0s 17us/step - loss: 0.3118 - accuracy: 0.8969\n",
      "Epoch 92/500\n",
      "912/912 [==============================] - 0s 17us/step - loss: 0.3212 - accuracy: 0.8991\n",
      "Epoch 93/500\n",
      "912/912 [==============================] - 0s 19us/step - loss: 0.2780 - accuracy: 0.8925\n",
      "Epoch 94/500\n",
      "912/912 [==============================] - 0s 17us/step - loss: 0.3145 - accuracy: 0.9057\n",
      "Epoch 95/500\n",
      "912/912 [==============================] - 0s 19us/step - loss: 0.2899 - accuracy: 0.8882\n",
      "Epoch 96/500\n",
      "912/912 [==============================] - 0s 19us/step - loss: 0.2891 - accuracy: 0.8980\n",
      "Epoch 97/500\n",
      "912/912 [==============================] - 0s 17us/step - loss: 0.3060 - accuracy: 0.8849\n",
      "Epoch 98/500\n",
      "912/912 [==============================] - 0s 20us/step - loss: 0.3312 - accuracy: 0.8827\n",
      "Epoch 99/500\n",
      "912/912 [==============================] - 0s 16us/step - loss: 0.3290 - accuracy: 0.8925\n",
      "Epoch 100/500\n",
      "912/912 [==============================] - ETA: 0s - loss: 0.2777 - accuracy: 0.89 - 0s 17us/step - loss: 0.3314 - accuracy: 0.8882\n",
      "Epoch 101/500\n",
      "912/912 [==============================] - 0s 17us/step - loss: 0.3138 - accuracy: 0.8925\n",
      "Epoch 102/500\n",
      "912/912 [==============================] - 0s 17us/step - loss: 0.3847 - accuracy: 0.8936\n",
      "Epoch 103/500\n",
      "912/912 [==============================] - 0s 22us/step - loss: 0.3156 - accuracy: 0.8805\n",
      "Epoch 104/500\n",
      "912/912 [==============================] - 0s 19us/step - loss: 0.2983 - accuracy: 0.9013\n",
      "Epoch 105/500\n",
      "912/912 [==============================] - 0s 20us/step - loss: 0.2805 - accuracy: 0.8980\n",
      "Epoch 106/500\n",
      "912/912 [==============================] - 0s 20us/step - loss: 0.3045 - accuracy: 0.8914\n",
      "Epoch 107/500\n",
      "912/912 [==============================] - 0s 17us/step - loss: 0.3154 - accuracy: 0.8783\n",
      "Epoch 108/500\n",
      "912/912 [==============================] - 0s 19us/step - loss: 0.2776 - accuracy: 0.9090\n",
      "Epoch 109/500\n",
      "912/912 [==============================] - 0s 20us/step - loss: 0.2935 - accuracy: 0.8925\n",
      "Epoch 110/500\n",
      "912/912 [==============================] - 0s 20us/step - loss: 0.3080 - accuracy: 0.8914\n",
      "Epoch 111/500\n",
      "912/912 [==============================] - 0s 20us/step - loss: 0.3233 - accuracy: 0.8893\n",
      "Epoch 112/500\n",
      "912/912 [==============================] - 0s 19us/step - loss: 0.3026 - accuracy: 0.8849\n",
      "Epoch 113/500\n",
      "912/912 [==============================] - 0s 20us/step - loss: 0.2711 - accuracy: 0.8947\n",
      "Epoch 114/500\n",
      "912/912 [==============================] - 0s 19us/step - loss: 0.2838 - accuracy: 0.8871\n",
      "Epoch 115/500\n",
      "912/912 [==============================] - 0s 19us/step - loss: 0.2620 - accuracy: 0.8925\n",
      "Epoch 116/500\n",
      "912/912 [==============================] - 0s 19us/step - loss: 0.2947 - accuracy: 0.8925\n",
      "Epoch 117/500\n",
      "912/912 [==============================] - 0s 22us/step - loss: 0.2821 - accuracy: 0.9002\n",
      "Epoch 118/500\n",
      "912/912 [==============================] - 0s 19us/step - loss: 0.3256 - accuracy: 0.8936\n",
      "Epoch 119/500\n",
      "912/912 [==============================] - 0s 19us/step - loss: 0.3244 - accuracy: 0.8849\n",
      "Epoch 120/500\n",
      "912/912 [==============================] - 0s 19us/step - loss: 0.3010 - accuracy: 0.8914\n",
      "Epoch 121/500\n",
      "912/912 [==============================] - 0s 17us/step - loss: 0.3092 - accuracy: 0.8969\n",
      "Epoch 122/500\n",
      "912/912 [==============================] - 0s 17us/step - loss: 0.2846 - accuracy: 0.9057\n",
      "Epoch 123/500\n",
      "912/912 [==============================] - 0s 19us/step - loss: 0.2827 - accuracy: 0.8991\n",
      "Epoch 124/500\n",
      "912/912 [==============================] - 0s 20us/step - loss: 0.2964 - accuracy: 0.9057\n",
      "Epoch 125/500\n",
      "912/912 [==============================] - 0s 20us/step - loss: 0.2884 - accuracy: 0.8904\n",
      "Epoch 126/500\n",
      "912/912 [==============================] - 0s 19us/step - loss: 0.2764 - accuracy: 0.8980\n",
      "Epoch 127/500\n",
      "912/912 [==============================] - 0s 19us/step - loss: 0.2942 - accuracy: 0.8969\n",
      "Epoch 128/500\n",
      "912/912 [==============================] - 0s 19us/step - loss: 0.3049 - accuracy: 0.8991\n",
      "Epoch 129/500\n",
      "912/912 [==============================] - 0s 19us/step - loss: 0.2965 - accuracy: 0.8969\n",
      "Epoch 130/500\n",
      "912/912 [==============================] - 0s 17us/step - loss: 0.3027 - accuracy: 0.8882\n",
      "Epoch 131/500\n",
      "912/912 [==============================] - 0s 21us/step - loss: 0.3001 - accuracy: 0.8936\n",
      "Epoch 132/500\n",
      "912/912 [==============================] - 0s 19us/step - loss: 0.2632 - accuracy: 0.9090\n",
      "Epoch 133/500\n",
      "912/912 [==============================] - 0s 19us/step - loss: 0.2543 - accuracy: 0.9057\n",
      "Epoch 134/500\n",
      "912/912 [==============================] - 0s 20us/step - loss: 0.2911 - accuracy: 0.8860\n",
      "Epoch 135/500\n",
      "912/912 [==============================] - 0s 20us/step - loss: 0.2938 - accuracy: 0.8838\n",
      "Epoch 136/500\n",
      "912/912 [==============================] - 0s 17us/step - loss: 0.3020 - accuracy: 0.8838\n",
      "Epoch 137/500\n",
      "912/912 [==============================] - 0s 17us/step - loss: 0.2770 - accuracy: 0.8991\n",
      "Epoch 138/500\n",
      "912/912 [==============================] - 0s 20us/step - loss: 0.2899 - accuracy: 0.8772\n",
      "Epoch 139/500\n",
      "912/912 [==============================] - 0s 19us/step - loss: 0.3494 - accuracy: 0.8936\n",
      "Epoch 140/500\n",
      "912/912 [==============================] - 0s 21us/step - loss: 0.2831 - accuracy: 0.9090\n",
      "Epoch 141/500\n",
      "912/912 [==============================] - 0s 19us/step - loss: 0.2955 - accuracy: 0.8969\n",
      "Epoch 142/500\n",
      "912/912 [==============================] - 0s 17us/step - loss: 0.2948 - accuracy: 0.8947\n",
      "Epoch 143/500\n",
      "912/912 [==============================] - 0s 21us/step - loss: 0.2977 - accuracy: 0.8860\n",
      "Epoch 144/500\n",
      "912/912 [==============================] - 0s 17us/step - loss: 0.3029 - accuracy: 0.8980\n",
      "Epoch 145/500\n",
      "912/912 [==============================] - 0s 19us/step - loss: 0.2974 - accuracy: 0.8717\n",
      "Epoch 146/500\n",
      "912/912 [==============================] - 0s 17us/step - loss: 0.2994 - accuracy: 0.9068\n",
      "Epoch 147/500\n",
      "912/912 [==============================] - 0s 17us/step - loss: 0.2693 - accuracy: 0.8980\n",
      "Epoch 148/500\n",
      "912/912 [==============================] - 0s 16us/step - loss: 0.2901 - accuracy: 0.8991\n",
      "Epoch 149/500\n",
      "912/912 [==============================] - 0s 19us/step - loss: 0.3244 - accuracy: 0.8805\n",
      "Epoch 150/500\n",
      "912/912 [==============================] - 0s 20us/step - loss: 0.2916 - accuracy: 0.8991\n",
      "Epoch 151/500\n",
      "912/912 [==============================] - 0s 20us/step - loss: 0.2663 - accuracy: 0.9046\n",
      "Epoch 152/500\n",
      "912/912 [==============================] - 0s 17us/step - loss: 0.2947 - accuracy: 0.9002\n",
      "Epoch 153/500\n"
     ]
    },
    {
     "name": "stdout",
     "output_type": "stream",
     "text": [
      "912/912 [==============================] - 0s 19us/step - loss: 0.2821 - accuracy: 0.8947\n",
      "Epoch 154/500\n",
      "912/912 [==============================] - 0s 19us/step - loss: 0.2694 - accuracy: 0.8936\n",
      "Epoch 155/500\n",
      "912/912 [==============================] - 0s 19us/step - loss: 0.3059 - accuracy: 0.8816\n",
      "Epoch 156/500\n",
      "912/912 [==============================] - 0s 20us/step - loss: 0.2918 - accuracy: 0.8991\n",
      "Epoch 157/500\n",
      "912/912 [==============================] - 0s 17us/step - loss: 0.3309 - accuracy: 0.8958\n",
      "Epoch 158/500\n",
      "912/912 [==============================] - 0s 21us/step - loss: 0.3022 - accuracy: 0.8904\n",
      "Epoch 159/500\n",
      "912/912 [==============================] - 0s 20us/step - loss: 0.3197 - accuracy: 0.8882\n",
      "Epoch 160/500\n",
      "912/912 [==============================] - 0s 19us/step - loss: 0.2999 - accuracy: 0.8871\n",
      "Epoch 161/500\n",
      "912/912 [==============================] - 0s 19us/step - loss: 0.2823 - accuracy: 0.8904\n",
      "Epoch 162/500\n",
      "912/912 [==============================] - 0s 19us/step - loss: 0.2937 - accuracy: 0.8882\n",
      "Epoch 163/500\n",
      "912/912 [==============================] - 0s 19us/step - loss: 0.3073 - accuracy: 0.8794\n",
      "Epoch 164/500\n",
      "912/912 [==============================] - 0s 19us/step - loss: 0.3149 - accuracy: 0.8925\n",
      "Epoch 165/500\n",
      "912/912 [==============================] - 0s 16us/step - loss: 0.2920 - accuracy: 0.8936\n",
      "Epoch 166/500\n",
      "912/912 [==============================] - 0s 21us/step - loss: 0.3016 - accuracy: 0.8969\n",
      "Epoch 167/500\n",
      "912/912 [==============================] - 0s 19us/step - loss: 0.3497 - accuracy: 0.8882\n",
      "Epoch 168/500\n",
      "912/912 [==============================] - 0s 17us/step - loss: 0.2969 - accuracy: 0.8947\n",
      "Epoch 169/500\n",
      "912/912 [==============================] - 0s 16us/step - loss: 0.2936 - accuracy: 0.8805\n",
      "Epoch 170/500\n",
      "912/912 [==============================] - 0s 17us/step - loss: 0.2979 - accuracy: 0.9013\n",
      "Epoch 171/500\n",
      "912/912 [==============================] - 0s 19us/step - loss: 0.2779 - accuracy: 0.8991\n",
      "Epoch 172/500\n",
      "912/912 [==============================] - 0s 16us/step - loss: 0.3072 - accuracy: 0.8958\n",
      "Epoch 173/500\n",
      "912/912 [==============================] - 0s 17us/step - loss: 0.2744 - accuracy: 0.8980\n",
      "Epoch 174/500\n",
      "912/912 [==============================] - 0s 17us/step - loss: 0.3249 - accuracy: 0.8893\n",
      "Epoch 175/500\n",
      "912/912 [==============================] - 0s 17us/step - loss: 0.2864 - accuracy: 0.8893\n",
      "Epoch 176/500\n",
      "912/912 [==============================] - 0s 19us/step - loss: 0.2836 - accuracy: 0.9079\n",
      "Epoch 177/500\n",
      "912/912 [==============================] - 0s 19us/step - loss: 0.2648 - accuracy: 0.8969\n",
      "Epoch 178/500\n",
      "912/912 [==============================] - 0s 19us/step - loss: 0.3031 - accuracy: 0.9024\n",
      "Epoch 179/500\n",
      "912/912 [==============================] - 0s 17us/step - loss: 0.2954 - accuracy: 0.8980\n",
      "Epoch 180/500\n",
      "912/912 [==============================] - 0s 19us/step - loss: 0.3107 - accuracy: 0.8750\n",
      "Epoch 181/500\n",
      "912/912 [==============================] - 0s 17us/step - loss: 0.2769 - accuracy: 0.8936\n",
      "Epoch 182/500\n",
      "912/912 [==============================] - 0s 19us/step - loss: 0.3017 - accuracy: 0.8914\n",
      "Epoch 183/500\n",
      "912/912 [==============================] - 0s 17us/step - loss: 0.2844 - accuracy: 0.8936\n",
      "Epoch 184/500\n",
      "912/912 [==============================] - 0s 17us/step - loss: 0.2902 - accuracy: 0.8980\n",
      "Epoch 185/500\n",
      "912/912 [==============================] - 0s 17us/step - loss: 0.2955 - accuracy: 0.8871\n",
      "Epoch 186/500\n",
      "912/912 [==============================] - 0s 19us/step - loss: 0.2996 - accuracy: 0.8849\n",
      "Epoch 187/500\n",
      "912/912 [==============================] - 0s 20us/step - loss: 0.2739 - accuracy: 0.9035\n",
      "Epoch 188/500\n",
      "912/912 [==============================] - 0s 19us/step - loss: 0.2704 - accuracy: 0.8882\n",
      "Epoch 189/500\n",
      "912/912 [==============================] - 0s 19us/step - loss: 0.3266 - accuracy: 0.9057\n",
      "Epoch 190/500\n",
      "912/912 [==============================] - 0s 19us/step - loss: 0.3260 - accuracy: 0.8925\n",
      "Epoch 191/500\n",
      "912/912 [==============================] - 0s 19us/step - loss: 0.2989 - accuracy: 0.8991\n",
      "Epoch 192/500\n",
      "912/912 [==============================] - 0s 21us/step - loss: 0.2928 - accuracy: 0.9024\n",
      "Epoch 193/500\n",
      "912/912 [==============================] - 0s 19us/step - loss: 0.3011 - accuracy: 0.8893\n",
      "Epoch 194/500\n",
      "912/912 [==============================] - 0s 19us/step - loss: 0.2743 - accuracy: 0.8893\n",
      "Epoch 195/500\n",
      "912/912 [==============================] - 0s 20us/step - loss: 0.2616 - accuracy: 0.8958\n",
      "Epoch 196/500\n",
      "912/912 [==============================] - 0s 19us/step - loss: 0.2881 - accuracy: 0.8860\n",
      "Epoch 197/500\n",
      "912/912 [==============================] - 0s 19us/step - loss: 0.2943 - accuracy: 0.8761\n",
      "Epoch 198/500\n",
      "912/912 [==============================] - 0s 19us/step - loss: 0.2886 - accuracy: 0.8816\n",
      "Epoch 199/500\n",
      "912/912 [==============================] - 0s 21us/step - loss: 0.2830 - accuracy: 0.8947\n",
      "Epoch 200/500\n",
      "912/912 [==============================] - 0s 21us/step - loss: 0.2748 - accuracy: 0.8980\n",
      "Epoch 201/500\n",
      "912/912 [==============================] - 0s 21us/step - loss: 0.3036 - accuracy: 0.8761\n",
      "Epoch 202/500\n",
      "912/912 [==============================] - 0s 20us/step - loss: 0.3012 - accuracy: 0.8914\n",
      "Epoch 203/500\n",
      "912/912 [==============================] - 0s 19us/step - loss: 0.3124 - accuracy: 0.8947\n",
      "Epoch 204/500\n",
      "912/912 [==============================] - 0s 20us/step - loss: 0.3044 - accuracy: 0.8849\n",
      "Epoch 205/500\n",
      "912/912 [==============================] - 0s 19us/step - loss: 0.3006 - accuracy: 0.8904\n",
      "Epoch 206/500\n",
      "912/912 [==============================] - 0s 20us/step - loss: 0.2920 - accuracy: 0.8893\n",
      "Epoch 207/500\n",
      "912/912 [==============================] - 0s 20us/step - loss: 0.2906 - accuracy: 0.8893\n",
      "Epoch 208/500\n",
      "912/912 [==============================] - 0s 19us/step - loss: 0.2985 - accuracy: 0.8914\n",
      "Epoch 209/500\n",
      "912/912 [==============================] - 0s 19us/step - loss: 0.2796 - accuracy: 0.8914\n",
      "Epoch 210/500\n",
      "912/912 [==============================] - 0s 20us/step - loss: 0.2754 - accuracy: 0.9002\n",
      "Epoch 211/500\n",
      "912/912 [==============================] - 0s 19us/step - loss: 0.3240 - accuracy: 0.8947\n",
      "Epoch 212/500\n",
      "912/912 [==============================] - 0s 20us/step - loss: 0.3052 - accuracy: 0.8849\n",
      "Epoch 213/500\n",
      "912/912 [==============================] - 0s 19us/step - loss: 0.2950 - accuracy: 0.8882\n",
      "Epoch 214/500\n",
      "912/912 [==============================] - 0s 20us/step - loss: 0.3113 - accuracy: 0.8893\n",
      "Epoch 215/500\n",
      "912/912 [==============================] - 0s 19us/step - loss: 0.2930 - accuracy: 0.8958\n",
      "Epoch 216/500\n",
      "912/912 [==============================] - 0s 21us/step - loss: 0.2827 - accuracy: 0.8991\n",
      "Epoch 217/500\n",
      "912/912 [==============================] - 0s 21us/step - loss: 0.3301 - accuracy: 0.8925\n",
      "Epoch 218/500\n",
      "912/912 [==============================] - 0s 19us/step - loss: 0.3321 - accuracy: 0.8914\n",
      "Epoch 219/500\n",
      "912/912 [==============================] - 0s 20us/step - loss: 0.2743 - accuracy: 0.9035\n",
      "Epoch 220/500\n",
      "912/912 [==============================] - 0s 20us/step - loss: 0.3340 - accuracy: 0.8772\n",
      "Epoch 221/500\n",
      "912/912 [==============================] - 0s 17us/step - loss: 0.2912 - accuracy: 0.8991\n",
      "Epoch 222/500\n",
      "912/912 [==============================] - 0s 19us/step - loss: 0.2633 - accuracy: 0.8904\n",
      "Epoch 223/500\n",
      "912/912 [==============================] - 0s 19us/step - loss: 0.2758 - accuracy: 0.8947\n",
      "Epoch 224/500\n",
      "912/912 [==============================] - 0s 19us/step - loss: 0.3163 - accuracy: 0.8904\n",
      "Epoch 225/500\n",
      "912/912 [==============================] - 0s 19us/step - loss: 0.3063 - accuracy: 0.8827\n",
      "Epoch 226/500\n",
      "912/912 [==============================] - 0s 20us/step - loss: 0.2782 - accuracy: 0.8849\n",
      "Epoch 227/500\n",
      "912/912 [==============================] - 0s 21us/step - loss: 0.3125 - accuracy: 0.8871\n",
      "Epoch 228/500\n",
      "912/912 [==============================] - 0s 20us/step - loss: 0.2470 - accuracy: 0.9101\n",
      "Epoch 229/500\n",
      "912/912 [==============================] - 0s 21us/step - loss: 0.3446 - accuracy: 0.8871\n",
      "Epoch 230/500\n",
      "912/912 [==============================] - 0s 20us/step - loss: 0.3279 - accuracy: 0.8882\n",
      "Epoch 231/500\n"
     ]
    },
    {
     "name": "stdout",
     "output_type": "stream",
     "text": [
      "912/912 [==============================] - 0s 21us/step - loss: 0.2800 - accuracy: 0.8958\n",
      "Epoch 232/500\n",
      "912/912 [==============================] - 0s 20us/step - loss: 0.2855 - accuracy: 0.8838\n",
      "Epoch 233/500\n",
      "912/912 [==============================] - 0s 20us/step - loss: 0.3136 - accuracy: 0.8816\n",
      "Epoch 234/500\n",
      "912/912 [==============================] - 0s 20us/step - loss: 0.3047 - accuracy: 0.8991\n",
      "Epoch 235/500\n",
      "912/912 [==============================] - 0s 19us/step - loss: 0.3015 - accuracy: 0.8904\n",
      "Epoch 236/500\n",
      "912/912 [==============================] - 0s 20us/step - loss: 0.2984 - accuracy: 0.8860\n",
      "Epoch 237/500\n",
      "912/912 [==============================] - 0s 20us/step - loss: 0.3023 - accuracy: 0.8882\n",
      "Epoch 238/500\n",
      "912/912 [==============================] - 0s 20us/step - loss: 0.2733 - accuracy: 0.9024\n",
      "Epoch 239/500\n",
      "912/912 [==============================] - 0s 20us/step - loss: 0.2812 - accuracy: 0.9134\n",
      "Epoch 240/500\n",
      "912/912 [==============================] - 0s 20us/step - loss: 0.2963 - accuracy: 0.8947\n",
      "Epoch 241/500\n",
      "912/912 [==============================] - 0s 19us/step - loss: 0.2874 - accuracy: 0.8761\n",
      "Epoch 242/500\n",
      "912/912 [==============================] - 0s 21us/step - loss: 0.2822 - accuracy: 0.9002\n",
      "Epoch 243/500\n",
      "912/912 [==============================] - 0s 19us/step - loss: 0.3068 - accuracy: 0.8925\n",
      "Epoch 244/500\n",
      "912/912 [==============================] - 0s 28us/step - loss: 0.2833 - accuracy: 0.8925\n",
      "Epoch 245/500\n",
      "912/912 [==============================] - 0s 23us/step - loss: 0.2954 - accuracy: 0.8904\n",
      "Epoch 246/500\n",
      "912/912 [==============================] - 0s 20us/step - loss: 0.2940 - accuracy: 0.8947\n",
      "Epoch 247/500\n",
      "912/912 [==============================] - 0s 21us/step - loss: 0.3054 - accuracy: 0.8936\n",
      "Epoch 248/500\n",
      "912/912 [==============================] - 0s 21us/step - loss: 0.2857 - accuracy: 0.8969\n",
      "Epoch 249/500\n",
      "912/912 [==============================] - 0s 19us/step - loss: 0.2793 - accuracy: 0.8947\n",
      "Epoch 250/500\n",
      "912/912 [==============================] - 0s 19us/step - loss: 0.2647 - accuracy: 0.8904\n",
      "Epoch 251/500\n",
      "912/912 [==============================] - 0s 16us/step - loss: 0.2784 - accuracy: 0.8805\n",
      "Epoch 252/500\n",
      "912/912 [==============================] - 0s 17us/step - loss: 0.2868 - accuracy: 0.8980\n",
      "Epoch 253/500\n",
      "912/912 [==============================] - 0s 17us/step - loss: 0.3121 - accuracy: 0.8969\n",
      "Epoch 254/500\n",
      "912/912 [==============================] - 0s 19us/step - loss: 0.2719 - accuracy: 0.8882\n",
      "Epoch 255/500\n",
      "912/912 [==============================] - 0s 20us/step - loss: 0.3114 - accuracy: 0.8947\n",
      "Epoch 256/500\n",
      "912/912 [==============================] - 0s 17us/step - loss: 0.2587 - accuracy: 0.9013\n",
      "Epoch 257/500\n",
      "912/912 [==============================] - 0s 17us/step - loss: 0.2924 - accuracy: 0.8838\n",
      "Epoch 258/500\n",
      "912/912 [==============================] - 0s 17us/step - loss: 0.3248 - accuracy: 0.8969\n",
      "Epoch 259/500\n",
      "912/912 [==============================] - 0s 17us/step - loss: 0.2991 - accuracy: 0.8849\n",
      "Epoch 260/500\n",
      "912/912 [==============================] - 0s 17us/step - loss: 0.2882 - accuracy: 0.8871\n",
      "Epoch 261/500\n",
      "912/912 [==============================] - 0s 17us/step - loss: 0.2641 - accuracy: 0.9024\n",
      "Epoch 262/500\n",
      "912/912 [==============================] - 0s 17us/step - loss: 0.3130 - accuracy: 0.8980\n",
      "Epoch 263/500\n",
      "912/912 [==============================] - 0s 16us/step - loss: 0.2721 - accuracy: 0.9002\n",
      "Epoch 264/500\n",
      "912/912 [==============================] - 0s 17us/step - loss: 0.3195 - accuracy: 0.8827\n",
      "Epoch 265/500\n",
      "912/912 [==============================] - ETA: 0s - loss: 0.1998 - accuracy: 0.93 - 0s 17us/step - loss: 0.2772 - accuracy: 0.9035\n",
      "Epoch 266/500\n",
      "912/912 [==============================] - 0s 16us/step - loss: 0.2858 - accuracy: 0.8936\n",
      "Epoch 267/500\n",
      "912/912 [==============================] - 0s 17us/step - loss: 0.2637 - accuracy: 0.8980\n",
      "Epoch 268/500\n",
      "912/912 [==============================] - 0s 17us/step - loss: 0.3449 - accuracy: 0.8849\n",
      "Epoch 269/500\n",
      "912/912 [==============================] - 0s 17us/step - loss: 0.2670 - accuracy: 0.8805\n",
      "Epoch 270/500\n",
      "912/912 [==============================] - 0s 17us/step - loss: 0.2790 - accuracy: 0.9024\n",
      "Epoch 271/500\n",
      "912/912 [==============================] - 0s 16us/step - loss: 0.2821 - accuracy: 0.8969\n",
      "Epoch 272/500\n",
      "912/912 [==============================] - 0s 17us/step - loss: 0.3359 - accuracy: 0.8914\n",
      "Epoch 273/500\n",
      "912/912 [==============================] - 0s 17us/step - loss: 0.2788 - accuracy: 0.9013\n",
      "Epoch 274/500\n",
      "912/912 [==============================] - 0s 17us/step - loss: 0.2953 - accuracy: 0.8871\n",
      "Epoch 275/500\n",
      "912/912 [==============================] - 0s 17us/step - loss: 0.3144 - accuracy: 0.8739\n",
      "Epoch 276/500\n",
      "912/912 [==============================] - 0s 17us/step - loss: 0.2769 - accuracy: 0.8980\n",
      "Epoch 277/500\n",
      "912/912 [==============================] - 0s 17us/step - loss: 0.2578 - accuracy: 0.8925\n",
      "Epoch 278/500\n",
      "912/912 [==============================] - 0s 17us/step - loss: 0.2820 - accuracy: 0.8980\n",
      "Epoch 279/500\n",
      "912/912 [==============================] - 0s 19us/step - loss: 0.3410 - accuracy: 0.8936\n",
      "Epoch 280/500\n",
      "912/912 [==============================] - 0s 20us/step - loss: 0.2531 - accuracy: 0.9035\n",
      "Epoch 281/500\n",
      "912/912 [==============================] - 0s 19us/step - loss: 0.2694 - accuracy: 0.8947\n",
      "Epoch 282/500\n",
      "912/912 [==============================] - 0s 17us/step - loss: 0.3234 - accuracy: 0.8794\n",
      "Epoch 283/500\n",
      "912/912 [==============================] - 0s 19us/step - loss: 0.2996 - accuracy: 0.9013\n",
      "Epoch 284/500\n",
      "912/912 [==============================] - 0s 19us/step - loss: 0.2754 - accuracy: 0.8904\n",
      "Epoch 285/500\n",
      "912/912 [==============================] - 0s 16us/step - loss: 0.2577 - accuracy: 0.8904\n",
      "Epoch 286/500\n",
      "912/912 [==============================] - 0s 17us/step - loss: 0.3019 - accuracy: 0.8882\n",
      "Epoch 287/500\n",
      "912/912 [==============================] - 0s 17us/step - loss: 0.2513 - accuracy: 0.8914\n",
      "Epoch 288/500\n",
      "912/912 [==============================] - 0s 19us/step - loss: 0.2875 - accuracy: 0.8805\n",
      "Epoch 289/500\n",
      "912/912 [==============================] - 0s 21us/step - loss: 0.3090 - accuracy: 0.8893\n",
      "Epoch 290/500\n",
      "912/912 [==============================] - 0s 16us/step - loss: 0.2848 - accuracy: 0.8991\n",
      "Epoch 291/500\n",
      "912/912 [==============================] - 0s 17us/step - loss: 0.2970 - accuracy: 0.8904\n",
      "Epoch 292/500\n",
      "912/912 [==============================] - 0s 17us/step - loss: 0.2591 - accuracy: 0.9057\n",
      "Epoch 293/500\n",
      "912/912 [==============================] - 0s 17us/step - loss: 0.2675 - accuracy: 0.8925\n",
      "Epoch 294/500\n",
      "912/912 [==============================] - 0s 20us/step - loss: 0.2998 - accuracy: 0.8882\n",
      "Epoch 295/500\n",
      "912/912 [==============================] - 0s 16us/step - loss: 0.2740 - accuracy: 0.8893\n",
      "Epoch 296/500\n",
      "912/912 [==============================] - 0s 19us/step - loss: 0.2679 - accuracy: 0.8914\n",
      "Epoch 297/500\n",
      "912/912 [==============================] - 0s 19us/step - loss: 0.3011 - accuracy: 0.8958\n",
      "Epoch 298/500\n",
      "912/912 [==============================] - 0s 17us/step - loss: 0.3255 - accuracy: 0.8717\n",
      "Epoch 299/500\n",
      "912/912 [==============================] - 0s 17us/step - loss: 0.2857 - accuracy: 0.8969\n",
      "Epoch 300/500\n",
      "912/912 [==============================] - 0s 19us/step - loss: 0.3090 - accuracy: 0.8794\n",
      "Epoch 301/500\n",
      "912/912 [==============================] - 0s 16us/step - loss: 0.2744 - accuracy: 0.8958\n",
      "Epoch 302/500\n",
      "912/912 [==============================] - 0s 16us/step - loss: 0.3243 - accuracy: 0.8838\n",
      "Epoch 303/500\n",
      "912/912 [==============================] - 0s 16us/step - loss: 0.2977 - accuracy: 0.8969\n",
      "Epoch 304/500\n",
      "912/912 [==============================] - 0s 19us/step - loss: 0.2772 - accuracy: 0.9112\n",
      "Epoch 305/500\n",
      "912/912 [==============================] - 0s 17us/step - loss: 0.2723 - accuracy: 0.8904\n",
      "Epoch 306/500\n",
      "912/912 [==============================] - 0s 17us/step - loss: 0.2388 - accuracy: 0.8925\n",
      "Epoch 307/500\n",
      "912/912 [==============================] - 0s 20us/step - loss: 0.2666 - accuracy: 0.8925\n",
      "Epoch 308/500\n",
      "912/912 [==============================] - 0s 17us/step - loss: 0.3055 - accuracy: 0.8882\n",
      "Epoch 309/500\n"
     ]
    },
    {
     "name": "stdout",
     "output_type": "stream",
     "text": [
      "912/912 [==============================] - 0s 21us/step - loss: 0.2675 - accuracy: 0.8882\n",
      "Epoch 310/500\n",
      "912/912 [==============================] - 0s 17us/step - loss: 0.2719 - accuracy: 0.8794\n",
      "Epoch 311/500\n",
      "912/912 [==============================] - 0s 16us/step - loss: 0.2809 - accuracy: 0.9024\n",
      "Epoch 312/500\n",
      "912/912 [==============================] - 0s 16us/step - loss: 0.2779 - accuracy: 0.8936\n",
      "Epoch 313/500\n",
      "912/912 [==============================] - 0s 16us/step - loss: 0.2880 - accuracy: 0.8838\n",
      "Epoch 314/500\n",
      "912/912 [==============================] - 0s 17us/step - loss: 0.2799 - accuracy: 0.8980\n",
      "Epoch 315/500\n",
      "912/912 [==============================] - 0s 20us/step - loss: 0.3136 - accuracy: 0.8838\n",
      "Epoch 316/500\n",
      "912/912 [==============================] - 0s 17us/step - loss: 0.2624 - accuracy: 0.8980\n",
      "Epoch 317/500\n",
      "912/912 [==============================] - 0s 17us/step - loss: 0.2967 - accuracy: 0.8914\n",
      "Epoch 318/500\n",
      "912/912 [==============================] - 0s 17us/step - loss: 0.2916 - accuracy: 0.8947\n",
      "Epoch 319/500\n",
      "912/912 [==============================] - 0s 17us/step - loss: 0.2723 - accuracy: 0.9013\n",
      "Epoch 320/500\n",
      "912/912 [==============================] - 0s 17us/step - loss: 0.2761 - accuracy: 0.8969\n",
      "Epoch 321/500\n",
      "912/912 [==============================] - 0s 19us/step - loss: 0.2640 - accuracy: 0.8816\n",
      "Epoch 322/500\n",
      "912/912 [==============================] - 0s 19us/step - loss: 0.3040 - accuracy: 0.8860\n",
      "Epoch 323/500\n",
      "912/912 [==============================] - 0s 17us/step - loss: 0.3167 - accuracy: 0.8827\n",
      "Epoch 324/500\n",
      "912/912 [==============================] - 0s 17us/step - loss: 0.2793 - accuracy: 0.8904\n",
      "Epoch 325/500\n",
      "912/912 [==============================] - 0s 22us/step - loss: 0.2873 - accuracy: 0.8882\n",
      "Epoch 326/500\n",
      "912/912 [==============================] - 0s 17us/step - loss: 0.3113 - accuracy: 0.8925\n",
      "Epoch 327/500\n",
      "912/912 [==============================] - 0s 19us/step - loss: 0.2455 - accuracy: 0.9013\n",
      "Epoch 328/500\n",
      "912/912 [==============================] - 0s 19us/step - loss: 0.3037 - accuracy: 0.9046\n",
      "Epoch 329/500\n",
      "912/912 [==============================] - 0s 17us/step - loss: 0.2685 - accuracy: 0.8969\n",
      "Epoch 330/500\n",
      "912/912 [==============================] - 0s 17us/step - loss: 0.2851 - accuracy: 0.9024\n",
      "Epoch 331/500\n",
      "912/912 [==============================] - 0s 19us/step - loss: 0.2917 - accuracy: 0.9013\n",
      "Epoch 332/500\n",
      "912/912 [==============================] - 0s 17us/step - loss: 0.2924 - accuracy: 0.8947\n",
      "Epoch 333/500\n",
      "912/912 [==============================] - 0s 17us/step - loss: 0.2830 - accuracy: 0.8904\n",
      "Epoch 334/500\n",
      "912/912 [==============================] - 0s 16us/step - loss: 0.2856 - accuracy: 0.8871\n",
      "Epoch 335/500\n",
      "912/912 [==============================] - 0s 16us/step - loss: 0.3005 - accuracy: 0.8783\n",
      "Epoch 336/500\n",
      "912/912 [==============================] - 0s 16us/step - loss: 0.3026 - accuracy: 0.8860\n",
      "Epoch 337/500\n",
      "912/912 [==============================] - 0s 17us/step - loss: 0.3180 - accuracy: 0.8936\n",
      "Epoch 338/500\n",
      "912/912 [==============================] - 0s 22us/step - loss: 0.2692 - accuracy: 0.8893\n",
      "Epoch 339/500\n",
      "912/912 [==============================] - 0s 19us/step - loss: 0.2834 - accuracy: 0.8893\n",
      "Epoch 340/500\n",
      "912/912 [==============================] - 0s 17us/step - loss: 0.3066 - accuracy: 0.8904\n",
      "Epoch 341/500\n",
      "912/912 [==============================] - 0s 16us/step - loss: 0.2766 - accuracy: 0.8969\n",
      "Epoch 342/500\n",
      "912/912 [==============================] - 0s 18us/step - loss: 0.2652 - accuracy: 0.8893\n",
      "Epoch 343/500\n",
      "912/912 [==============================] - 0s 17us/step - loss: 0.3259 - accuracy: 0.8728\n",
      "Epoch 344/500\n",
      "912/912 [==============================] - 0s 18us/step - loss: 0.3029 - accuracy: 0.8893\n",
      "Epoch 345/500\n",
      "912/912 [==============================] - 0s 17us/step - loss: 0.2965 - accuracy: 0.9057\n",
      "Epoch 346/500\n",
      "912/912 [==============================] - 0s 17us/step - loss: 0.2553 - accuracy: 0.8991\n",
      "Epoch 347/500\n",
      "912/912 [==============================] - 0s 17us/step - loss: 0.3010 - accuracy: 0.8838\n",
      "Epoch 348/500\n",
      "912/912 [==============================] - 0s 20us/step - loss: 0.2792 - accuracy: 0.8958\n",
      "Epoch 349/500\n",
      "912/912 [==============================] - 0s 18us/step - loss: 0.2505 - accuracy: 0.9024\n",
      "Epoch 350/500\n",
      "912/912 [==============================] - 0s 19us/step - loss: 0.2611 - accuracy: 0.9101\n",
      "Epoch 351/500\n",
      "912/912 [==============================] - 0s 19us/step - loss: 0.2619 - accuracy: 0.9046\n",
      "Epoch 352/500\n",
      "912/912 [==============================] - 0s 17us/step - loss: 0.3487 - accuracy: 0.8871\n",
      "Epoch 353/500\n",
      "912/912 [==============================] - 0s 19us/step - loss: 0.3353 - accuracy: 0.8728\n",
      "Epoch 354/500\n",
      "912/912 [==============================] - 0s 17us/step - loss: 0.3256 - accuracy: 0.8893\n",
      "Epoch 355/500\n",
      "912/912 [==============================] - 0s 17us/step - loss: 0.3079 - accuracy: 0.8914\n",
      "Epoch 356/500\n",
      "912/912 [==============================] - 0s 19us/step - loss: 0.2642 - accuracy: 0.9035\n",
      "Epoch 357/500\n",
      "912/912 [==============================] - 0s 19us/step - loss: 0.2742 - accuracy: 0.8893\n",
      "Epoch 358/500\n",
      "912/912 [==============================] - 0s 17us/step - loss: 0.3027 - accuracy: 0.8860\n",
      "Epoch 359/500\n",
      "912/912 [==============================] - 0s 16us/step - loss: 0.2643 - accuracy: 0.9002\n",
      "Epoch 360/500\n",
      "912/912 [==============================] - 0s 19us/step - loss: 0.2812 - accuracy: 0.8904\n",
      "Epoch 361/500\n",
      "912/912 [==============================] - 0s 19us/step - loss: 0.2533 - accuracy: 0.8914\n",
      "Epoch 362/500\n",
      "912/912 [==============================] - 0s 16us/step - loss: 0.2805 - accuracy: 0.8893\n",
      "Epoch 363/500\n",
      "912/912 [==============================] - 0s 17us/step - loss: 0.2814 - accuracy: 0.9101\n",
      "Epoch 364/500\n",
      "912/912 [==============================] - 0s 16us/step - loss: 0.2709 - accuracy: 0.9079\n",
      "Epoch 365/500\n",
      "912/912 [==============================] - 0s 19us/step - loss: 0.2815 - accuracy: 0.8914\n",
      "Epoch 366/500\n",
      "912/912 [==============================] - 0s 16us/step - loss: 0.2919 - accuracy: 0.8893\n",
      "Epoch 367/500\n",
      "912/912 [==============================] - 0s 16us/step - loss: 0.2713 - accuracy: 0.8980\n",
      "Epoch 368/500\n",
      "912/912 [==============================] - 0s 16us/step - loss: 0.2738 - accuracy: 0.8904\n",
      "Epoch 369/500\n",
      "912/912 [==============================] - 0s 15us/step - loss: 0.2919 - accuracy: 0.8936\n",
      "Epoch 370/500\n",
      "912/912 [==============================] - 0s 17us/step - loss: 0.3094 - accuracy: 0.8871\n",
      "Epoch 371/500\n",
      "912/912 [==============================] - 0s 16us/step - loss: 0.2796 - accuracy: 0.9090\n",
      "Epoch 372/500\n",
      "912/912 [==============================] - 0s 17us/step - loss: 0.2665 - accuracy: 0.8871\n",
      "Epoch 373/500\n",
      "912/912 [==============================] - 0s 17us/step - loss: 0.3048 - accuracy: 0.8794\n",
      "Epoch 374/500\n",
      "912/912 [==============================] - 0s 17us/step - loss: 0.2616 - accuracy: 0.9013\n",
      "Epoch 375/500\n",
      "912/912 [==============================] - 0s 23us/step - loss: 0.3384 - accuracy: 0.8958\n",
      "Epoch 376/500\n",
      "912/912 [==============================] - 0s 17us/step - loss: 0.2810 - accuracy: 0.9013\n",
      "Epoch 377/500\n",
      "912/912 [==============================] - 0s 18us/step - loss: 0.2786 - accuracy: 0.8958\n",
      "Epoch 378/500\n",
      "912/912 [==============================] - 0s 16us/step - loss: 0.2851 - accuracy: 0.9013\n",
      "Epoch 379/500\n",
      "912/912 [==============================] - 0s 16us/step - loss: 0.2704 - accuracy: 0.8914\n",
      "Epoch 380/500\n",
      "912/912 [==============================] - 0s 17us/step - loss: 0.2623 - accuracy: 0.8794\n",
      "Epoch 381/500\n",
      "912/912 [==============================] - 0s 21us/step - loss: 0.2589 - accuracy: 0.9112\n",
      "Epoch 382/500\n",
      "912/912 [==============================] - 0s 17us/step - loss: 0.3195 - accuracy: 0.8947\n",
      "Epoch 383/500\n",
      "912/912 [==============================] - 0s 19us/step - loss: 0.2634 - accuracy: 0.9002\n",
      "Epoch 384/500\n",
      "912/912 [==============================] - 0s 19us/step - loss: 0.2625 - accuracy: 0.8958\n",
      "Epoch 385/500\n",
      "912/912 [==============================] - 0s 21us/step - loss: 0.2853 - accuracy: 0.9101\n",
      "Epoch 386/500\n",
      "912/912 [==============================] - 0s 20us/step - loss: 0.3212 - accuracy: 0.8838\n",
      "Epoch 387/500\n"
     ]
    },
    {
     "name": "stdout",
     "output_type": "stream",
     "text": [
      "912/912 [==============================] - 0s 19us/step - loss: 0.2886 - accuracy: 0.8849\n",
      "Epoch 388/500\n",
      "912/912 [==============================] - 0s 16us/step - loss: 0.2856 - accuracy: 0.9002\n",
      "Epoch 389/500\n",
      "912/912 [==============================] - 0s 19us/step - loss: 0.2728 - accuracy: 0.8860\n",
      "Epoch 390/500\n",
      "912/912 [==============================] - 0s 16us/step - loss: 0.2605 - accuracy: 0.8860\n",
      "Epoch 391/500\n",
      "912/912 [==============================] - 0s 16us/step - loss: 0.2826 - accuracy: 0.8925\n",
      "Epoch 392/500\n",
      "912/912 [==============================] - 0s 19us/step - loss: 0.3159 - accuracy: 0.8761\n",
      "Epoch 393/500\n",
      "912/912 [==============================] - 0s 19us/step - loss: 0.2895 - accuracy: 0.8914\n",
      "Epoch 394/500\n",
      "912/912 [==============================] - 0s 21us/step - loss: 0.2463 - accuracy: 0.8805\n",
      "Epoch 395/500\n",
      "912/912 [==============================] - 0s 17us/step - loss: 0.2952 - accuracy: 0.8904\n",
      "Epoch 396/500\n",
      "912/912 [==============================] - 0s 16us/step - loss: 0.2615 - accuracy: 0.9057\n",
      "Epoch 397/500\n",
      "912/912 [==============================] - 0s 16us/step - loss: 0.2788 - accuracy: 0.8925\n",
      "Epoch 398/500\n",
      "912/912 [==============================] - 0s 19us/step - loss: 0.2711 - accuracy: 0.9013\n",
      "Epoch 399/500\n",
      "912/912 [==============================] - 0s 17us/step - loss: 0.2950 - accuracy: 0.8871\n",
      "Epoch 400/500\n",
      "912/912 [==============================] - 0s 16us/step - loss: 0.3120 - accuracy: 0.8728\n",
      "Epoch 401/500\n",
      "912/912 [==============================] - 0s 16us/step - loss: 0.2718 - accuracy: 0.8958\n",
      "Epoch 402/500\n",
      "912/912 [==============================] - 0s 17us/step - loss: 0.2534 - accuracy: 0.9057\n",
      "Epoch 403/500\n",
      "912/912 [==============================] - 0s 20us/step - loss: 0.3284 - accuracy: 0.8893\n",
      "Epoch 404/500\n",
      "912/912 [==============================] - 0s 19us/step - loss: 0.2885 - accuracy: 0.8991\n",
      "Epoch 405/500\n",
      "912/912 [==============================] - 0s 20us/step - loss: 0.2932 - accuracy: 0.9046\n",
      "Epoch 406/500\n",
      "912/912 [==============================] - 0s 17us/step - loss: 0.3138 - accuracy: 0.9002\n",
      "Epoch 407/500\n",
      "912/912 [==============================] - 0s 19us/step - loss: 0.2767 - accuracy: 0.9013\n",
      "Epoch 408/500\n",
      "912/912 [==============================] - 0s 17us/step - loss: 0.2846 - accuracy: 0.8827\n",
      "Epoch 409/500\n",
      "912/912 [==============================] - 0s 19us/step - loss: 0.2956 - accuracy: 0.8893\n",
      "Epoch 410/500\n",
      "912/912 [==============================] - 0s 17us/step - loss: 0.2911 - accuracy: 0.9013\n",
      "Epoch 411/500\n",
      "912/912 [==============================] - 0s 19us/step - loss: 0.2632 - accuracy: 0.8860\n",
      "Epoch 412/500\n",
      "912/912 [==============================] - 0s 17us/step - loss: 0.3586 - accuracy: 0.8838\n",
      "Epoch 413/500\n",
      "912/912 [==============================] - 0s 17us/step - loss: 0.2957 - accuracy: 0.8969\n",
      "Epoch 414/500\n",
      "912/912 [==============================] - 0s 17us/step - loss: 0.2876 - accuracy: 0.8969\n",
      "Epoch 415/500\n",
      "912/912 [==============================] - 0s 19us/step - loss: 0.2939 - accuracy: 0.9101\n",
      "Epoch 416/500\n",
      "912/912 [==============================] - 0s 19us/step - loss: 0.2676 - accuracy: 0.8936\n",
      "Epoch 417/500\n",
      "912/912 [==============================] - 0s 17us/step - loss: 0.3112 - accuracy: 0.8783\n",
      "Epoch 418/500\n",
      "912/912 [==============================] - 0s 17us/step - loss: 0.2720 - accuracy: 0.8925\n",
      "Epoch 419/500\n",
      "912/912 [==============================] - 0s 17us/step - loss: 0.2934 - accuracy: 0.8904\n",
      "Epoch 420/500\n",
      "912/912 [==============================] - 0s 19us/step - loss: 0.2991 - accuracy: 0.8893\n",
      "Epoch 421/500\n",
      "912/912 [==============================] - 0s 19us/step - loss: 0.3020 - accuracy: 0.8991\n",
      "Epoch 422/500\n",
      "912/912 [==============================] - 0s 16us/step - loss: 0.2932 - accuracy: 0.8914\n",
      "Epoch 423/500\n",
      "912/912 [==============================] - 0s 16us/step - loss: 0.2587 - accuracy: 0.9002\n",
      "Epoch 424/500\n",
      "912/912 [==============================] - 0s 17us/step - loss: 0.3017 - accuracy: 0.9035\n",
      "Epoch 425/500\n",
      "912/912 [==============================] - 0s 17us/step - loss: 0.2345 - accuracy: 0.8958\n",
      "Epoch 426/500\n",
      "912/912 [==============================] - 0s 17us/step - loss: 0.3234 - accuracy: 0.8860\n",
      "Epoch 427/500\n",
      "912/912 [==============================] - 0s 16us/step - loss: 0.2468 - accuracy: 0.9068\n",
      "Epoch 428/500\n",
      "912/912 [==============================] - 0s 17us/step - loss: 0.2629 - accuracy: 0.9024\n",
      "Epoch 429/500\n",
      "912/912 [==============================] - 0s 17us/step - loss: 0.3171 - accuracy: 0.8827\n",
      "Epoch 430/500\n",
      "912/912 [==============================] - 0s 17us/step - loss: 0.2887 - accuracy: 0.8827\n",
      "Epoch 431/500\n",
      "912/912 [==============================] - 0s 16us/step - loss: 0.2942 - accuracy: 0.8904\n",
      "Epoch 432/500\n",
      "912/912 [==============================] - 0s 16us/step - loss: 0.3047 - accuracy: 0.8991\n",
      "Epoch 433/500\n",
      "912/912 [==============================] - 0s 19us/step - loss: 0.2655 - accuracy: 0.9101\n",
      "Epoch 434/500\n",
      "912/912 [==============================] - 0s 16us/step - loss: 0.2643 - accuracy: 0.8914\n",
      "Epoch 435/500\n",
      "912/912 [==============================] - 0s 20us/step - loss: 0.2775 - accuracy: 0.8991\n",
      "Epoch 436/500\n",
      "912/912 [==============================] - 0s 19us/step - loss: 0.2713 - accuracy: 0.8958\n",
      "Epoch 437/500\n",
      "912/912 [==============================] - 0s 17us/step - loss: 0.3090 - accuracy: 0.8827\n",
      "Epoch 438/500\n",
      "912/912 [==============================] - ETA: 0s - loss: 0.2406 - accuracy: 0.89 - 0s 19us/step - loss: 0.2666 - accuracy: 0.8893\n",
      "Epoch 439/500\n",
      "912/912 [==============================] - 0s 17us/step - loss: 0.3017 - accuracy: 0.8991\n",
      "Epoch 440/500\n",
      "912/912 [==============================] - 0s 17us/step - loss: 0.2884 - accuracy: 0.9035\n",
      "Epoch 441/500\n",
      "912/912 [==============================] - 0s 17us/step - loss: 0.2984 - accuracy: 0.8958\n",
      "Epoch 442/500\n",
      "912/912 [==============================] - ETA: 0s - loss: 0.2563 - accuracy: 0.87 - 0s 20us/step - loss: 0.2646 - accuracy: 0.8871\n",
      "Epoch 443/500\n",
      "912/912 [==============================] - 0s 19us/step - loss: 0.3083 - accuracy: 0.8893\n",
      "Epoch 444/500\n",
      "912/912 [==============================] - 0s 16us/step - loss: 0.2714 - accuracy: 0.9046\n",
      "Epoch 445/500\n",
      "912/912 [==============================] - 0s 17us/step - loss: 0.2461 - accuracy: 0.9046\n",
      "Epoch 446/500\n",
      "912/912 [==============================] - 0s 17us/step - loss: 0.2830 - accuracy: 0.9024\n",
      "Epoch 447/500\n",
      "912/912 [==============================] - 0s 19us/step - loss: 0.2755 - accuracy: 0.8969\n",
      "Epoch 448/500\n",
      "912/912 [==============================] - 0s 17us/step - loss: 0.2486 - accuracy: 0.8958\n",
      "Epoch 449/500\n",
      "912/912 [==============================] - 0s 16us/step - loss: 0.3066 - accuracy: 0.9035\n",
      "Epoch 450/500\n",
      "912/912 [==============================] - 0s 18us/step - loss: 0.2972 - accuracy: 0.8947\n",
      "Epoch 451/500\n",
      "912/912 [==============================] - 0s 20us/step - loss: 0.2886 - accuracy: 0.8991\n",
      "Epoch 452/500\n",
      "912/912 [==============================] - 0s 17us/step - loss: 0.2926 - accuracy: 0.8980\n",
      "Epoch 453/500\n",
      "912/912 [==============================] - 0s 19us/step - loss: 0.2659 - accuracy: 0.8969\n",
      "Epoch 454/500\n",
      "912/912 [==============================] - 0s 20us/step - loss: 0.2362 - accuracy: 0.9068\n",
      "Epoch 455/500\n",
      "912/912 [==============================] - 0s 21us/step - loss: 0.3079 - accuracy: 0.8761\n",
      "Epoch 456/500\n",
      "912/912 [==============================] - 0s 19us/step - loss: 0.3291 - accuracy: 0.8838\n",
      "Epoch 457/500\n",
      "912/912 [==============================] - 0s 17us/step - loss: 0.2667 - accuracy: 0.8958\n",
      "Epoch 458/500\n",
      "912/912 [==============================] - 0s 17us/step - loss: 0.2873 - accuracy: 0.8980\n",
      "Epoch 459/500\n",
      "912/912 [==============================] - 0s 19us/step - loss: 0.2616 - accuracy: 0.8980\n",
      "Epoch 460/500\n",
      "912/912 [==============================] - 0s 17us/step - loss: 0.2932 - accuracy: 0.8947\n",
      "Epoch 461/500\n",
      "912/912 [==============================] - 0s 19us/step - loss: 0.3120 - accuracy: 0.8739\n",
      "Epoch 462/500\n",
      "912/912 [==============================] - 0s 16us/step - loss: 0.2714 - accuracy: 0.8980\n",
      "Epoch 463/500\n",
      "912/912 [==============================] - 0s 16us/step - loss: 0.3129 - accuracy: 0.8980\n",
      "Epoch 464/500\n",
      "912/912 [==============================] - 0s 17us/step - loss: 0.2709 - accuracy: 0.9002\n",
      "Epoch 465/500\n"
     ]
    },
    {
     "name": "stdout",
     "output_type": "stream",
     "text": [
      "912/912 [==============================] - 0s 17us/step - loss: 0.2596 - accuracy: 0.8871\n",
      "Epoch 466/500\n",
      "912/912 [==============================] - 0s 21us/step - loss: 0.2838 - accuracy: 0.8871\n",
      "Epoch 467/500\n",
      "912/912 [==============================] - 0s 19us/step - loss: 0.2863 - accuracy: 0.8838\n",
      "Epoch 468/500\n",
      "912/912 [==============================] - 0s 19us/step - loss: 0.2618 - accuracy: 0.9002\n",
      "Epoch 469/500\n",
      "912/912 [==============================] - 0s 18us/step - loss: 0.2717 - accuracy: 0.9046\n",
      "Epoch 470/500\n",
      "912/912 [==============================] - 0s 19us/step - loss: 0.2797 - accuracy: 0.8849\n",
      "Epoch 471/500\n",
      "912/912 [==============================] - 0s 17us/step - loss: 0.2863 - accuracy: 0.8980\n",
      "Epoch 472/500\n",
      "912/912 [==============================] - 0s 19us/step - loss: 0.2935 - accuracy: 0.8969\n",
      "Epoch 473/500\n",
      "912/912 [==============================] - 0s 17us/step - loss: 0.2734 - accuracy: 0.8969\n",
      "Epoch 474/500\n",
      "912/912 [==============================] - 0s 17us/step - loss: 0.3251 - accuracy: 0.8772\n",
      "Epoch 475/500\n",
      "912/912 [==============================] - 0s 19us/step - loss: 0.2877 - accuracy: 0.8827\n",
      "Epoch 476/500\n",
      "912/912 [==============================] - 0s 17us/step - loss: 0.2853 - accuracy: 0.9024\n",
      "Epoch 477/500\n",
      "912/912 [==============================] - 0s 17us/step - loss: 0.2823 - accuracy: 0.8827\n",
      "Epoch 478/500\n",
      "912/912 [==============================] - 0s 17us/step - loss: 0.2554 - accuracy: 0.9134\n",
      "Epoch 479/500\n",
      "912/912 [==============================] - 0s 17us/step - loss: 0.2420 - accuracy: 0.9101\n",
      "Epoch 480/500\n",
      "912/912 [==============================] - 0s 16us/step - loss: 0.3107 - accuracy: 0.8958\n",
      "Epoch 481/500\n",
      "912/912 [==============================] - 0s 20us/step - loss: 0.2872 - accuracy: 0.8936\n",
      "Epoch 482/500\n",
      "912/912 [==============================] - 0s 17us/step - loss: 0.2817 - accuracy: 0.8838\n",
      "Epoch 483/500\n",
      "912/912 [==============================] - 0s 17us/step - loss: 0.2925 - accuracy: 0.8904\n",
      "Epoch 484/500\n",
      "912/912 [==============================] - 0s 16us/step - loss: 0.3011 - accuracy: 0.8904\n",
      "Epoch 485/500\n",
      "912/912 [==============================] - 0s 18us/step - loss: 0.2445 - accuracy: 0.8969\n",
      "Epoch 486/500\n",
      "912/912 [==============================] - 0s 16us/step - loss: 0.2900 - accuracy: 0.8871\n",
      "Epoch 487/500\n",
      "912/912 [==============================] - 0s 18us/step - loss: 0.2502 - accuracy: 0.9046\n",
      "Epoch 488/500\n",
      "912/912 [==============================] - 0s 17us/step - loss: 0.2358 - accuracy: 0.9035\n",
      "Epoch 489/500\n",
      "912/912 [==============================] - 0s 16us/step - loss: 0.2873 - accuracy: 0.8947\n",
      "Epoch 490/500\n",
      "912/912 [==============================] - 0s 17us/step - loss: 0.3201 - accuracy: 0.8936\n",
      "Epoch 491/500\n",
      "912/912 [==============================] - 0s 20us/step - loss: 0.2734 - accuracy: 0.8936\n",
      "Epoch 492/500\n",
      "912/912 [==============================] - 0s 17us/step - loss: 0.3173 - accuracy: 0.8783\n",
      "Epoch 493/500\n",
      "912/912 [==============================] - 0s 16us/step - loss: 0.2998 - accuracy: 0.8783\n",
      "Epoch 494/500\n",
      "912/912 [==============================] - 0s 17us/step - loss: 0.2777 - accuracy: 0.8772\n",
      "Epoch 495/500\n",
      "912/912 [==============================] - 0s 16us/step - loss: 0.2607 - accuracy: 0.8991\n",
      "Epoch 496/500\n",
      "912/912 [==============================] - 0s 16us/step - loss: 0.2848 - accuracy: 0.8893\n",
      "Epoch 497/500\n",
      "912/912 [==============================] - 0s 17us/step - loss: 0.2993 - accuracy: 0.8958\n",
      "Epoch 498/500\n",
      "912/912 [==============================] - 0s 16us/step - loss: 0.3252 - accuracy: 0.8936\n",
      "Epoch 499/500\n",
      "912/912 [==============================] - 0s 19us/step - loss: 0.2951 - accuracy: 0.8958\n",
      "Epoch 500/500\n",
      "912/912 [==============================] - 0s 17us/step - loss: 0.2785 - accuracy: 0.9068\n"
     ]
    },
    {
     "data": {
      "text/plain": [
       "GridSearchCV(cv=10, error_score='raise-deprecating',\n",
       "             estimator=<keras.wrappers.scikit_learn.KerasClassifier object at 0x000002CDB05516C8>,\n",
       "             iid='warn', n_jobs=4,\n",
       "             param_grid={'batch_size': [32, 64], 'epochs': [100, 500],\n",
       "                         'optimizer': ['Adamax', 'rmsprop']},\n",
       "             pre_dispatch='2*n_jobs', refit=True, return_train_score=True,\n",
       "             scoring='accuracy', verbose=0)"
      ]
     },
     "execution_count": 74,
     "metadata": {},
     "output_type": "execute_result"
    }
   ],
   "source": [
    "gd_cv_ann.fit(X_train_skl, y_train_smt)"
   ]
  },
  {
   "cell_type": "code",
   "execution_count": 75,
   "metadata": {},
   "outputs": [],
   "source": [
    "pred_cv=gd_cv_ann.predict(X_test_skl)"
   ]
  },
  {
   "cell_type": "code",
   "execution_count": 79,
   "metadata": {},
   "outputs": [
    {
     "data": {
      "text/plain": [
       "{'batch_size': 64, 'epochs': 500, 'optimizer': 'rmsprop'}"
      ]
     },
     "execution_count": 79,
     "metadata": {},
     "output_type": "execute_result"
    }
   ],
   "source": [
    "gd_cv_ann.best_params_"
   ]
  },
  {
   "cell_type": "code",
   "execution_count": 86,
   "metadata": {},
   "outputs": [],
   "source": [
    "pred_cv=pred_cv.reshape(156)"
   ]
  },
  {
   "cell_type": "code",
   "execution_count": 87,
   "metadata": {},
   "outputs": [],
   "source": [
    "pred_cv=pd.Series(pred_cv)"
   ]
  },
  {
   "cell_type": "code",
   "execution_count": 88,
   "metadata": {},
   "outputs": [
    {
     "name": "stdout",
     "output_type": "stream",
     "text": [
      "              precision    recall  f1-score   support\n",
      "\n",
      "           0       0.86      0.89      0.88        47\n",
      "           1       0.95      0.94      0.94       109\n",
      "\n",
      "    accuracy                           0.92       156\n",
      "   macro avg       0.91      0.91      0.91       156\n",
      "weighted avg       0.92      0.92      0.92       156\n",
      "\n"
     ]
    }
   ],
   "source": [
    "print(classification_report(y_test, pred_cv))"
   ]
  }
 ],
 "metadata": {
  "kernelspec": {
   "display_name": "Python 3",
   "language": "python",
   "name": "python3"
  },
  "language_info": {
   "codemirror_mode": {
    "name": "ipython",
    "version": 3
   },
   "file_extension": ".py",
   "mimetype": "text/x-python",
   "name": "python",
   "nbconvert_exporter": "python",
   "pygments_lexer": "ipython3",
   "version": "3.7.5"
  }
 },
 "nbformat": 4,
 "nbformat_minor": 2
}
